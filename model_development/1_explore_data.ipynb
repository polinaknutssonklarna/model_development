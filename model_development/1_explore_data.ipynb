{
 "cells": [
  {
   "cell_type": "markdown",
   "metadata": {},
   "source": [
    "Task: develop a model that predicts a probability of default on a purchase made with Pay Later\n",
    "\n",
    "This notebook explores the data to form insights about features\n",
    "\n",
    "* Inputs: mlcasestudy.csv\n",
    "\n",
    "Contents:\n",
    "1. Load and prepare data\n",
    "2. Inspect missing values\n",
    "3. Explore data"
   ]
  },
  {
   "cell_type": "code",
   "execution_count": 405,
   "metadata": {},
   "outputs": [],
   "source": [
    "import numpy as np\n",
    "import pandas as pd\n",
    "import matplotlib.pyplot as plt\n",
    "import matplotlib.colors as mcolors\n",
    "import seaborn as sns\n",
    "import shap\n",
    "import xgboost as xgb\n",
    "\n",
    "\n",
    "from sklearn.model_selection import train_test_split, GridSearchCV, cross_val_score\n",
    "from sklearn.pipeline import Pipeline\n",
    "from sklearn.preprocessing import StandardScaler, OneHotEncoder\n"
   ]
  },
  {
   "cell_type": "code",
   "execution_count": 406,
   "metadata": {},
   "outputs": [],
   "source": [
    "def create_features(df):\n",
    "    # Create a missingness flag for existing_klarna_debt\n",
    "    df['existing_debt_missing'] = df['existing_klarna_debt'].isnull().astype(int)\n",
    "\n",
    "    # Replace missing values for existing_klarna_debt with 0\n",
    "    df['existing_klarna_debt'] = df['existing_klarna_debt'].fillna(0)\n",
    "\n",
    "    # Create a missingness flag for card expiry date\n",
    "    df['card_expiry_missing'] = df['card_expiry_month'].isnull().astype(int)\n",
    "\n",
    "     # Loan_to_debt_ratio\n",
    "    df['loan_to_debt_ratio'] = df['loan_amount'] / (df['existing_klarna_debt'] + df['loan_amount'])\n",
    "\n",
    "    # New_exposure_7d_to_debt\n",
    "    df['new_exposure_7d_to_debt'] = df['new_exposure_7d'] / (df['existing_klarna_debt'] + df['loan_amount'])\n",
    "\n",
    "    # New_exposure_14d_to_debt\n",
    "    df['new_exposure_14d_to_debt'] = df['new_exposure_14d'] / (df['existing_klarna_debt'] + df['loan_amount'])\n",
    "\n",
    "\n",
    "    # Repayment to total debt\n",
    "    df['repayment_1y_to_debt'] = (df['amount_repaid_1y'] / (df['existing_klarna_debt'] + df['loan_amount']))\n",
    "    df['repayment_6m_to_debt'] = (df['amount_repaid_6m'] / (df['existing_klarna_debt'] + df['loan_amount']))\n",
    "    df['repayment_3m_to_debt'] = (df['amount_repaid_3m'] / (df['existing_klarna_debt'] + df['loan_amount']))\n",
    "    df['repayment_1m_to_debt'] = (df['amount_repaid_1m'] / (df['existing_klarna_debt'] + df['loan_amount']))\n",
    "    df['repayment_14d_to_debt'] = (df['amount_repaid_14d'] / (df['existing_klarna_debt'] + df['loan_amount']))\n",
    "\n",
    "    \n",
    "\n",
    "    # Repayment_rate variations\n",
    "    epsilon = 1e-5  # Small constant\n",
    "\n",
    "    # Repayment to new exposure 14d\n",
    "    df['repayment_rate_to_new_14d'] = (df['amount_repaid_14d'] / (df['new_exposure_14d'] + epsilon)).astype(float)\n",
    "\n",
    "    # Repayment to number of active loans\n",
    "    df['repayment_rate_to_num'] = (df['amount_repaid_14d'] / (df['num_active_loans'] + epsilon)).astype(float)\n",
    "\n",
    "    \n",
    "\n",
    "    # Ratio of confirmed payments to active loans\n",
    "    df['num_conf_payments_6m_to_num_loans'] = df['num_confirmed_payments_6m'] / (df['num_active_loans'] + epsilon)\n",
    "\n",
    "    # Ratio of failed payments to active loans\n",
    "    df['num_failed_payments_6m_to_num_loans'] = df['num_failed_payments_6m'] / (df['num_active_loans'] + epsilon)\n",
    "\n",
    "     # Create number ratios\n",
    "    df['num_failed_to_conf_payments_6m'] = df['num_failed_payments_6m'] / (df['num_confirmed_payments_6m'] + epsilon)\n",
    "\n",
    "    df['num_failed_to_conf_payments_3m'] = df['num_failed_payments_3m'] / (df['num_confirmed_payments_3m'] + epsilon)\n",
    "\n",
    "\n",
    "    # Merchant category and group variables \n",
    "\n",
    "    # Average Loans\n",
    "    df['category_avg_loan'] = df.groupby('merchant_category')['loan_amount'].transform('mean')\n",
    "    df['group_avg_loan'] = df.groupby('merchant_group')['loan_amount'].transform('mean')\n",
    "\n",
    "    # Average default rates\n",
    "    df['category_default_rate'] = df.groupby('merchant_category')['default'].transform('mean')\n",
    "    df['group_default_rate'] = df.groupby('merchant_group')['default'].transform('mean')\n",
    "\n",
    "\n",
    "\n",
    "    return df\n"
   ]
  },
  {
   "cell_type": "code",
   "execution_count": 407,
   "metadata": {},
   "outputs": [],
   "source": [
    "\n",
    "def calculate_months_to_card_expiration(df):\n",
    "    \"\"\"\n",
    "    Calculate card_expiry_date and months_to_card_expiration between loan_issue_date and card_expiry_date.\n",
    "    \"\"\"\n",
    "    # Ensure loan_issue_date is datetime\n",
    "    df['loan_issue_date'] = pd.to_datetime(df['loan_issue_date'], errors='coerce')\n",
    "\n",
    "    # Combine year and month for card expiration\n",
    "    df['card_expiry_date'] = pd.to_datetime(\n",
    "        df.apply(\n",
    "            lambda row: f\"{int(row['card_expiry_year'])}-{int(row['card_expiry_month']):02d}-01\"\n",
    "            if pd.notna(row['card_expiry_year']) and pd.notna(row['card_expiry_month'])\n",
    "            else np.nan,\n",
    "            axis=1\n",
    "        ), \n",
    "        errors='coerce'\n",
    "    )\n",
    "\n",
    "    # Calculate the difference in months\n",
    "    df['months_to_card_expiration'] = np.where(\n",
    "        df['card_expiry_date'].notna() & df['loan_issue_date'].notna(),\n",
    "        (df['card_expiry_date'].dt.year - df['loan_issue_date'].dt.year) * 12 +\n",
    "        (df['card_expiry_date'].dt.month - df['loan_issue_date'].dt.month),\n",
    "        np.nan\n",
    "    )\n",
    "\n",
    "     # Convert month_to_card_expiration to integer\n",
    "    df['months_to_card_expiration'] = df['months_to_card_expiration'].fillna(-1).astype(int).replace(-1, np.nan)\n",
    "\n",
    "    return df\n"
   ]
  },
  {
   "cell_type": "markdown",
   "metadata": {},
   "source": [
    "# 1. Load and prepare data"
   ]
  },
  {
   "cell_type": "code",
   "execution_count": 408,
   "metadata": {},
   "outputs": [
    {
     "data": {
      "text/html": [
       "<div>\n",
       "<style scoped>\n",
       "    .dataframe tbody tr th:only-of-type {\n",
       "        vertical-align: middle;\n",
       "    }\n",
       "\n",
       "    .dataframe tbody tr th {\n",
       "        vertical-align: top;\n",
       "    }\n",
       "\n",
       "    .dataframe thead th {\n",
       "        text-align: right;\n",
       "    }\n",
       "</style>\n",
       "<table border=\"1\" class=\"dataframe\">\n",
       "  <thead>\n",
       "    <tr style=\"text-align: right;\">\n",
       "      <th></th>\n",
       "      <th>loan_id</th>\n",
       "      <th>loan_issue_date</th>\n",
       "      <th>loan_amount</th>\n",
       "      <th>amount_outstanding_14d</th>\n",
       "      <th>amount_outstanding_21d</th>\n",
       "      <th>card_expiry_month</th>\n",
       "      <th>card_expiry_year</th>\n",
       "      <th>existing_klarna_debt</th>\n",
       "      <th>num_active_loans</th>\n",
       "      <th>days_since_first_loan</th>\n",
       "      <th>...</th>\n",
       "      <th>num_failed_payments_3m</th>\n",
       "      <th>num_failed_payments_6m</th>\n",
       "      <th>num_failed_payments_1y</th>\n",
       "      <th>amount_repaid_14d</th>\n",
       "      <th>amount_repaid_1m</th>\n",
       "      <th>amount_repaid_3m</th>\n",
       "      <th>amount_repaid_6m</th>\n",
       "      <th>amount_repaid_1y</th>\n",
       "      <th>merchant_group</th>\n",
       "      <th>merchant_category</th>\n",
       "    </tr>\n",
       "  </thead>\n",
       "  <tbody>\n",
       "    <tr>\n",
       "      <th>0</th>\n",
       "      <td>a55cf3062bd45a83766096fd0c4697d6</td>\n",
       "      <td>2023-06-24</td>\n",
       "      <td>5300</td>\n",
       "      <td>0</td>\n",
       "      <td>0</td>\n",
       "      <td>2.0</td>\n",
       "      <td>2026.0</td>\n",
       "      <td>21098.0</td>\n",
       "      <td>2</td>\n",
       "      <td>717</td>\n",
       "      <td>...</td>\n",
       "      <td>0</td>\n",
       "      <td>0</td>\n",
       "      <td>0</td>\n",
       "      <td>6875</td>\n",
       "      <td>15580</td>\n",
       "      <td>42325</td>\n",
       "      <td>67878</td>\n",
       "      <td>152193</td>\n",
       "      <td>Clothing &amp; Shoes</td>\n",
       "      <td>Adult Shoes &amp; Clothing</td>\n",
       "    </tr>\n",
       "    <tr>\n",
       "      <th>1</th>\n",
       "      <td>45e3d15cb313d767470722e952e14313</td>\n",
       "      <td>2023-09-22</td>\n",
       "      <td>9547</td>\n",
       "      <td>7161</td>\n",
       "      <td>7161</td>\n",
       "      <td>6.0</td>\n",
       "      <td>2027.0</td>\n",
       "      <td>NaN</td>\n",
       "      <td>0</td>\n",
       "      <td>-1</td>\n",
       "      <td>...</td>\n",
       "      <td>0</td>\n",
       "      <td>0</td>\n",
       "      <td>0</td>\n",
       "      <td>0</td>\n",
       "      <td>0</td>\n",
       "      <td>0</td>\n",
       "      <td>0</td>\n",
       "      <td>0</td>\n",
       "      <td>Leisure, Sport &amp; Hobby</td>\n",
       "      <td>Concept Stores &amp; Miscellaneous</td>\n",
       "    </tr>\n",
       "    <tr>\n",
       "      <th>2</th>\n",
       "      <td>b195c127c7605b7b936b90bcdb5e889c</td>\n",
       "      <td>2023-07-03</td>\n",
       "      <td>5948</td>\n",
       "      <td>0</td>\n",
       "      <td>0</td>\n",
       "      <td>12.0</td>\n",
       "      <td>2023.0</td>\n",
       "      <td>NaN</td>\n",
       "      <td>0</td>\n",
       "      <td>-1</td>\n",
       "      <td>...</td>\n",
       "      <td>0</td>\n",
       "      <td>0</td>\n",
       "      <td>0</td>\n",
       "      <td>0</td>\n",
       "      <td>0</td>\n",
       "      <td>0</td>\n",
       "      <td>0</td>\n",
       "      <td>0</td>\n",
       "      <td>Clothing &amp; Shoes</td>\n",
       "      <td>General Shoes &amp; Clothing</td>\n",
       "    </tr>\n",
       "    <tr>\n",
       "      <th>3</th>\n",
       "      <td>36028b1dbeb4aeef565a79ca9700667a</td>\n",
       "      <td>2023-08-19</td>\n",
       "      <td>15871</td>\n",
       "      <td>11904</td>\n",
       "      <td>0</td>\n",
       "      <td>2.0</td>\n",
       "      <td>2026.0</td>\n",
       "      <td>31742.0</td>\n",
       "      <td>1</td>\n",
       "      <td>0</td>\n",
       "      <td>...</td>\n",
       "      <td>0</td>\n",
       "      <td>0</td>\n",
       "      <td>0</td>\n",
       "      <td>0</td>\n",
       "      <td>0</td>\n",
       "      <td>0</td>\n",
       "      <td>0</td>\n",
       "      <td>0</td>\n",
       "      <td>Clothing &amp; Shoes</td>\n",
       "      <td>Youthful Shoes &amp; Clothing</td>\n",
       "    </tr>\n",
       "    <tr>\n",
       "      <th>4</th>\n",
       "      <td>5317f8e22a8f790b6e11a0f12320422d</td>\n",
       "      <td>2023-09-30</td>\n",
       "      <td>19510</td>\n",
       "      <td>0</td>\n",
       "      <td>0</td>\n",
       "      <td>8.0</td>\n",
       "      <td>2026.0</td>\n",
       "      <td>9064.0</td>\n",
       "      <td>1</td>\n",
       "      <td>501</td>\n",
       "      <td>...</td>\n",
       "      <td>0</td>\n",
       "      <td>0</td>\n",
       "      <td>0</td>\n",
       "      <td>6511</td>\n",
       "      <td>14000</td>\n",
       "      <td>32289</td>\n",
       "      <td>61993</td>\n",
       "      <td>116532</td>\n",
       "      <td>Leisure, Sport &amp; Hobby</td>\n",
       "      <td>Sports Gear &amp; Outdoor</td>\n",
       "    </tr>\n",
       "  </tbody>\n",
       "</table>\n",
       "<p>5 rows × 24 columns</p>\n",
       "</div>"
      ],
      "text/plain": [
       "                            loan_id loan_issue_date  loan_amount  \\\n",
       "0  a55cf3062bd45a83766096fd0c4697d6      2023-06-24         5300   \n",
       "1  45e3d15cb313d767470722e952e14313      2023-09-22         9547   \n",
       "2  b195c127c7605b7b936b90bcdb5e889c      2023-07-03         5948   \n",
       "3  36028b1dbeb4aeef565a79ca9700667a      2023-08-19        15871   \n",
       "4  5317f8e22a8f790b6e11a0f12320422d      2023-09-30        19510   \n",
       "\n",
       "   amount_outstanding_14d  amount_outstanding_21d  card_expiry_month  \\\n",
       "0                       0                       0                2.0   \n",
       "1                    7161                    7161                6.0   \n",
       "2                       0                       0               12.0   \n",
       "3                   11904                       0                2.0   \n",
       "4                       0                       0                8.0   \n",
       "\n",
       "   card_expiry_year  existing_klarna_debt  num_active_loans  \\\n",
       "0            2026.0               21098.0                 2   \n",
       "1            2027.0                   NaN                 0   \n",
       "2            2023.0                   NaN                 0   \n",
       "3            2026.0               31742.0                 1   \n",
       "4            2026.0                9064.0                 1   \n",
       "\n",
       "   days_since_first_loan  ...  num_failed_payments_3m  num_failed_payments_6m  \\\n",
       "0                    717  ...                       0                       0   \n",
       "1                     -1  ...                       0                       0   \n",
       "2                     -1  ...                       0                       0   \n",
       "3                      0  ...                       0                       0   \n",
       "4                    501  ...                       0                       0   \n",
       "\n",
       "   num_failed_payments_1y  amount_repaid_14d  amount_repaid_1m  \\\n",
       "0                       0               6875             15580   \n",
       "1                       0                  0                 0   \n",
       "2                       0                  0                 0   \n",
       "3                       0                  0                 0   \n",
       "4                       0               6511             14000   \n",
       "\n",
       "   amount_repaid_3m  amount_repaid_6m  amount_repaid_1y  \\\n",
       "0             42325             67878            152193   \n",
       "1                 0                 0                 0   \n",
       "2                 0                 0                 0   \n",
       "3                 0                 0                 0   \n",
       "4             32289             61993            116532   \n",
       "\n",
       "           merchant_group               merchant_category  \n",
       "0        Clothing & Shoes          Adult Shoes & Clothing  \n",
       "1  Leisure, Sport & Hobby  Concept Stores & Miscellaneous  \n",
       "2        Clothing & Shoes        General Shoes & Clothing  \n",
       "3        Clothing & Shoes       Youthful Shoes & Clothing  \n",
       "4  Leisure, Sport & Hobby           Sports Gear & Outdoor  \n",
       "\n",
       "[5 rows x 24 columns]"
      ]
     },
     "execution_count": 408,
     "metadata": {},
     "output_type": "execute_result"
    }
   ],
   "source": [
    "# Load the data\n",
    "df = pd.read_csv('data/mlcasestudy.csv')\n",
    "df.head()"
   ]
  },
  {
   "cell_type": "markdown",
   "metadata": {},
   "source": [
    "## Describe dataset"
   ]
  },
  {
   "cell_type": "code",
   "execution_count": 409,
   "metadata": {},
   "outputs": [
    {
     "data": {
      "text/plain": [
       "(111902, 24)"
      ]
     },
     "execution_count": 409,
     "metadata": {},
     "output_type": "execute_result"
    }
   ],
   "source": [
    "df.shape"
   ]
  },
  {
   "cell_type": "code",
   "execution_count": 410,
   "metadata": {},
   "outputs": [
    {
     "name": "stdout",
     "output_type": "stream",
     "text": [
      "<class 'pandas.core.frame.DataFrame'>\n",
      "RangeIndex: 111902 entries, 0 to 111901\n",
      "Data columns (total 24 columns):\n",
      " #   Column                     Non-Null Count   Dtype  \n",
      "---  ------                     --------------   -----  \n",
      " 0   loan_id                    111902 non-null  object \n",
      " 1   loan_issue_date            111902 non-null  object \n",
      " 2   loan_amount                111902 non-null  int64  \n",
      " 3   amount_outstanding_14d     111902 non-null  int64  \n",
      " 4   amount_outstanding_21d     111902 non-null  int64  \n",
      " 5   card_expiry_month          111747 non-null  float64\n",
      " 6   card_expiry_year           111747 non-null  float64\n",
      " 7   existing_klarna_debt       82690 non-null   float64\n",
      " 8   num_active_loans           111902 non-null  int64  \n",
      " 9   days_since_first_loan      111902 non-null  int64  \n",
      " 10  new_exposure_7d            111902 non-null  int64  \n",
      " 11  new_exposure_14d           111902 non-null  int64  \n",
      " 12  num_confirmed_payments_3m  111902 non-null  int64  \n",
      " 13  num_confirmed_payments_6m  111902 non-null  int64  \n",
      " 14  num_failed_payments_3m     111902 non-null  int64  \n",
      " 15  num_failed_payments_6m     111902 non-null  int64  \n",
      " 16  num_failed_payments_1y     111902 non-null  int64  \n",
      " 17  amount_repaid_14d          111902 non-null  int64  \n",
      " 18  amount_repaid_1m           111902 non-null  int64  \n",
      " 19  amount_repaid_3m           111902 non-null  int64  \n",
      " 20  amount_repaid_6m           111902 non-null  int64  \n",
      " 21  amount_repaid_1y           111902 non-null  int64  \n",
      " 22  merchant_group             111902 non-null  object \n",
      " 23  merchant_category          111902 non-null  object \n",
      "dtypes: float64(3), int64(17), object(4)\n",
      "memory usage: 20.5+ MB\n"
     ]
    }
   ],
   "source": [
    "df.info()"
   ]
  },
  {
   "cell_type": "code",
   "execution_count": 411,
   "metadata": {},
   "outputs": [
    {
     "data": {
      "text/plain": [
       "111902"
      ]
     },
     "execution_count": 411,
     "metadata": {},
     "output_type": "execute_result"
    }
   ],
   "source": [
    "# Number unique loan ids\n",
    "df.loan_id.nunique()"
   ]
  },
  {
   "cell_type": "code",
   "execution_count": 412,
   "metadata": {},
   "outputs": [
    {
     "data": {
      "text/html": [
       "<div>\n",
       "<style scoped>\n",
       "    .dataframe tbody tr th:only-of-type {\n",
       "        vertical-align: middle;\n",
       "    }\n",
       "\n",
       "    .dataframe tbody tr th {\n",
       "        vertical-align: top;\n",
       "    }\n",
       "\n",
       "    .dataframe thead th {\n",
       "        text-align: right;\n",
       "    }\n",
       "</style>\n",
       "<table border=\"1\" class=\"dataframe\">\n",
       "  <thead>\n",
       "    <tr style=\"text-align: right;\">\n",
       "      <th></th>\n",
       "      <th>loan_amount</th>\n",
       "      <th>amount_outstanding_14d</th>\n",
       "      <th>amount_outstanding_21d</th>\n",
       "      <th>card_expiry_month</th>\n",
       "      <th>card_expiry_year</th>\n",
       "      <th>existing_klarna_debt</th>\n",
       "      <th>num_active_loans</th>\n",
       "      <th>days_since_first_loan</th>\n",
       "      <th>new_exposure_7d</th>\n",
       "      <th>new_exposure_14d</th>\n",
       "      <th>num_confirmed_payments_3m</th>\n",
       "      <th>num_confirmed_payments_6m</th>\n",
       "      <th>num_failed_payments_3m</th>\n",
       "      <th>num_failed_payments_6m</th>\n",
       "      <th>num_failed_payments_1y</th>\n",
       "      <th>amount_repaid_14d</th>\n",
       "      <th>amount_repaid_1m</th>\n",
       "      <th>amount_repaid_3m</th>\n",
       "      <th>amount_repaid_6m</th>\n",
       "      <th>amount_repaid_1y</th>\n",
       "    </tr>\n",
       "  </thead>\n",
       "  <tbody>\n",
       "    <tr>\n",
       "      <th>count</th>\n",
       "      <td>111902.0</td>\n",
       "      <td>111902.0</td>\n",
       "      <td>111902.0</td>\n",
       "      <td>111747.0</td>\n",
       "      <td>111747.0</td>\n",
       "      <td>82690.0</td>\n",
       "      <td>111902.0</td>\n",
       "      <td>111902.0</td>\n",
       "      <td>111902.0</td>\n",
       "      <td>111902.0</td>\n",
       "      <td>111902.0</td>\n",
       "      <td>111902.0</td>\n",
       "      <td>111902.0</td>\n",
       "      <td>111902.0</td>\n",
       "      <td>111902.0</td>\n",
       "      <td>111902.0</td>\n",
       "      <td>111902.0</td>\n",
       "      <td>111902.0</td>\n",
       "      <td>111902.0</td>\n",
       "      <td>111902.0</td>\n",
       "    </tr>\n",
       "    <tr>\n",
       "      <th>mean</th>\n",
       "      <td>17574.5</td>\n",
       "      <td>784.0</td>\n",
       "      <td>427.4</td>\n",
       "      <td>6.6</td>\n",
       "      <td>2026.1</td>\n",
       "      <td>16018.2</td>\n",
       "      <td>0.7</td>\n",
       "      <td>294.8</td>\n",
       "      <td>3555.8</td>\n",
       "      <td>4895.8</td>\n",
       "      <td>4.2</td>\n",
       "      <td>7.3</td>\n",
       "      <td>0.0</td>\n",
       "      <td>0.1</td>\n",
       "      <td>0.2</td>\n",
       "      <td>2579.5</td>\n",
       "      <td>5177.6</td>\n",
       "      <td>13674.3</td>\n",
       "      <td>23848.2</td>\n",
       "      <td>39059.6</td>\n",
       "    </tr>\n",
       "    <tr>\n",
       "      <th>std</th>\n",
       "      <td>23187.4</td>\n",
       "      <td>3870.2</td>\n",
       "      <td>3288.0</td>\n",
       "      <td>3.3</td>\n",
       "      <td>1.5</td>\n",
       "      <td>33369.8</td>\n",
       "      <td>1.4</td>\n",
       "      <td>346.8</td>\n",
       "      <td>12253.6</td>\n",
       "      <td>14762.2</td>\n",
       "      <td>8.8</td>\n",
       "      <td>15.2</td>\n",
       "      <td>0.3</td>\n",
       "      <td>0.8</td>\n",
       "      <td>1.5</td>\n",
       "      <td>6582.4</td>\n",
       "      <td>12532.8</td>\n",
       "      <td>30424.1</td>\n",
       "      <td>52617.7</td>\n",
       "      <td>85773.5</td>\n",
       "    </tr>\n",
       "    <tr>\n",
       "      <th>min</th>\n",
       "      <td>102.0</td>\n",
       "      <td>0.0</td>\n",
       "      <td>0.0</td>\n",
       "      <td>1.0</td>\n",
       "      <td>2023.0</td>\n",
       "      <td>-220618.0</td>\n",
       "      <td>0.0</td>\n",
       "      <td>-1.0</td>\n",
       "      <td>0.0</td>\n",
       "      <td>0.0</td>\n",
       "      <td>0.0</td>\n",
       "      <td>0.0</td>\n",
       "      <td>0.0</td>\n",
       "      <td>0.0</td>\n",
       "      <td>0.0</td>\n",
       "      <td>0.0</td>\n",
       "      <td>0.0</td>\n",
       "      <td>0.0</td>\n",
       "      <td>0.0</td>\n",
       "      <td>0.0</td>\n",
       "    </tr>\n",
       "    <tr>\n",
       "      <th>25%</th>\n",
       "      <td>6160.0</td>\n",
       "      <td>0.0</td>\n",
       "      <td>0.0</td>\n",
       "      <td>4.0</td>\n",
       "      <td>2025.0</td>\n",
       "      <td>0.0</td>\n",
       "      <td>0.0</td>\n",
       "      <td>-1.0</td>\n",
       "      <td>0.0</td>\n",
       "      <td>0.0</td>\n",
       "      <td>0.0</td>\n",
       "      <td>0.0</td>\n",
       "      <td>0.0</td>\n",
       "      <td>0.0</td>\n",
       "      <td>0.0</td>\n",
       "      <td>0.0</td>\n",
       "      <td>0.0</td>\n",
       "      <td>0.0</td>\n",
       "      <td>0.0</td>\n",
       "      <td>0.0</td>\n",
       "    </tr>\n",
       "    <tr>\n",
       "      <th>50%</th>\n",
       "      <td>10877.0</td>\n",
       "      <td>0.0</td>\n",
       "      <td>0.0</td>\n",
       "      <td>6.0</td>\n",
       "      <td>2026.0</td>\n",
       "      <td>1404.0</td>\n",
       "      <td>0.0</td>\n",
       "      <td>136.0</td>\n",
       "      <td>0.0</td>\n",
       "      <td>0.0</td>\n",
       "      <td>0.0</td>\n",
       "      <td>2.0</td>\n",
       "      <td>0.0</td>\n",
       "      <td>0.0</td>\n",
       "      <td>0.0</td>\n",
       "      <td>0.0</td>\n",
       "      <td>0.0</td>\n",
       "      <td>0.0</td>\n",
       "      <td>3656.5</td>\n",
       "      <td>8436.0</td>\n",
       "    </tr>\n",
       "    <tr>\n",
       "      <th>75%</th>\n",
       "      <td>19461.0</td>\n",
       "      <td>0.0</td>\n",
       "      <td>0.0</td>\n",
       "      <td>9.0</td>\n",
       "      <td>2027.0</td>\n",
       "      <td>19008.0</td>\n",
       "      <td>1.0</td>\n",
       "      <td>546.0</td>\n",
       "      <td>0.0</td>\n",
       "      <td>2141.5</td>\n",
       "      <td>5.0</td>\n",
       "      <td>8.0</td>\n",
       "      <td>0.0</td>\n",
       "      <td>0.0</td>\n",
       "      <td>0.0</td>\n",
       "      <td>2490.0</td>\n",
       "      <td>5406.0</td>\n",
       "      <td>15116.5</td>\n",
       "      <td>26819.2</td>\n",
       "      <td>43523.0</td>\n",
       "    </tr>\n",
       "    <tr>\n",
       "      <th>max</th>\n",
       "      <td>392913.0</td>\n",
       "      <td>193313.0</td>\n",
       "      <td>193313.0</td>\n",
       "      <td>12.0</td>\n",
       "      <td>2032.0</td>\n",
       "      <td>817852.0</td>\n",
       "      <td>61.0</td>\n",
       "      <td>1095.0</td>\n",
       "      <td>562297.0</td>\n",
       "      <td>562297.0</td>\n",
       "      <td>356.0</td>\n",
       "      <td>602.0</td>\n",
       "      <td>17.0</td>\n",
       "      <td>52.0</td>\n",
       "      <td>266.0</td>\n",
       "      <td>214994.0</td>\n",
       "      <td>531469.0</td>\n",
       "      <td>1398723.0</td>\n",
       "      <td>3582917.0</td>\n",
       "      <td>6985861.0</td>\n",
       "    </tr>\n",
       "  </tbody>\n",
       "</table>\n",
       "</div>"
      ],
      "text/plain": [
       "       loan_amount  amount_outstanding_14d  amount_outstanding_21d  \\\n",
       "count     111902.0                111902.0                111902.0   \n",
       "mean       17574.5                   784.0                   427.4   \n",
       "std        23187.4                  3870.2                  3288.0   \n",
       "min          102.0                     0.0                     0.0   \n",
       "25%         6160.0                     0.0                     0.0   \n",
       "50%        10877.0                     0.0                     0.0   \n",
       "75%        19461.0                     0.0                     0.0   \n",
       "max       392913.0                193313.0                193313.0   \n",
       "\n",
       "       card_expiry_month  card_expiry_year  existing_klarna_debt  \\\n",
       "count           111747.0          111747.0               82690.0   \n",
       "mean                 6.6            2026.1               16018.2   \n",
       "std                  3.3               1.5               33369.8   \n",
       "min                  1.0            2023.0             -220618.0   \n",
       "25%                  4.0            2025.0                   0.0   \n",
       "50%                  6.0            2026.0                1404.0   \n",
       "75%                  9.0            2027.0               19008.0   \n",
       "max                 12.0            2032.0              817852.0   \n",
       "\n",
       "       num_active_loans  days_since_first_loan  new_exposure_7d  \\\n",
       "count          111902.0               111902.0         111902.0   \n",
       "mean                0.7                  294.8           3555.8   \n",
       "std                 1.4                  346.8          12253.6   \n",
       "min                 0.0                   -1.0              0.0   \n",
       "25%                 0.0                   -1.0              0.0   \n",
       "50%                 0.0                  136.0              0.0   \n",
       "75%                 1.0                  546.0              0.0   \n",
       "max                61.0                 1095.0         562297.0   \n",
       "\n",
       "       new_exposure_14d  num_confirmed_payments_3m  num_confirmed_payments_6m  \\\n",
       "count          111902.0                   111902.0                   111902.0   \n",
       "mean             4895.8                        4.2                        7.3   \n",
       "std             14762.2                        8.8                       15.2   \n",
       "min                 0.0                        0.0                        0.0   \n",
       "25%                 0.0                        0.0                        0.0   \n",
       "50%                 0.0                        0.0                        2.0   \n",
       "75%              2141.5                        5.0                        8.0   \n",
       "max            562297.0                      356.0                      602.0   \n",
       "\n",
       "       num_failed_payments_3m  num_failed_payments_6m  num_failed_payments_1y  \\\n",
       "count                111902.0                111902.0                111902.0   \n",
       "mean                      0.0                     0.1                     0.2   \n",
       "std                       0.3                     0.8                     1.5   \n",
       "min                       0.0                     0.0                     0.0   \n",
       "25%                       0.0                     0.0                     0.0   \n",
       "50%                       0.0                     0.0                     0.0   \n",
       "75%                       0.0                     0.0                     0.0   \n",
       "max                      17.0                    52.0                   266.0   \n",
       "\n",
       "       amount_repaid_14d  amount_repaid_1m  amount_repaid_3m  \\\n",
       "count           111902.0          111902.0          111902.0   \n",
       "mean              2579.5            5177.6           13674.3   \n",
       "std               6582.4           12532.8           30424.1   \n",
       "min                  0.0               0.0               0.0   \n",
       "25%                  0.0               0.0               0.0   \n",
       "50%                  0.0               0.0               0.0   \n",
       "75%               2490.0            5406.0           15116.5   \n",
       "max             214994.0          531469.0         1398723.0   \n",
       "\n",
       "       amount_repaid_6m  amount_repaid_1y  \n",
       "count          111902.0          111902.0  \n",
       "mean            23848.2           39059.6  \n",
       "std             52617.7           85773.5  \n",
       "min                 0.0               0.0  \n",
       "25%                 0.0               0.0  \n",
       "50%              3656.5            8436.0  \n",
       "75%             26819.2           43523.0  \n",
       "max           3582917.0         6985861.0  "
      ]
     },
     "execution_count": 412,
     "metadata": {},
     "output_type": "execute_result"
    }
   ],
   "source": [
    "df.describe().round(1)"
   ]
  },
  {
   "cell_type": "code",
   "execution_count": 413,
   "metadata": {},
   "outputs": [
    {
     "data": {
      "text/html": [
       "<div>\n",
       "<style scoped>\n",
       "    .dataframe tbody tr th:only-of-type {\n",
       "        vertical-align: middle;\n",
       "    }\n",
       "\n",
       "    .dataframe tbody tr th {\n",
       "        vertical-align: top;\n",
       "    }\n",
       "\n",
       "    .dataframe thead th {\n",
       "        text-align: right;\n",
       "    }\n",
       "</style>\n",
       "<table border=\"1\" class=\"dataframe\">\n",
       "  <thead>\n",
       "    <tr style=\"text-align: right;\">\n",
       "      <th></th>\n",
       "      <th>loan_issue_date</th>\n",
       "      <th>card_expiry_month</th>\n",
       "      <th>card_expiry_year</th>\n",
       "    </tr>\n",
       "  </thead>\n",
       "  <tbody>\n",
       "    <tr>\n",
       "      <th>0</th>\n",
       "      <td>2023-06-24</td>\n",
       "      <td>2.0</td>\n",
       "      <td>2026.0</td>\n",
       "    </tr>\n",
       "    <tr>\n",
       "      <th>1</th>\n",
       "      <td>2023-09-22</td>\n",
       "      <td>6.0</td>\n",
       "      <td>2027.0</td>\n",
       "    </tr>\n",
       "    <tr>\n",
       "      <th>2</th>\n",
       "      <td>2023-07-03</td>\n",
       "      <td>12.0</td>\n",
       "      <td>2023.0</td>\n",
       "    </tr>\n",
       "    <tr>\n",
       "      <th>3</th>\n",
       "      <td>2023-08-19</td>\n",
       "      <td>2.0</td>\n",
       "      <td>2026.0</td>\n",
       "    </tr>\n",
       "    <tr>\n",
       "      <th>4</th>\n",
       "      <td>2023-09-30</td>\n",
       "      <td>8.0</td>\n",
       "      <td>2026.0</td>\n",
       "    </tr>\n",
       "  </tbody>\n",
       "</table>\n",
       "</div>"
      ],
      "text/plain": [
       "  loan_issue_date  card_expiry_month  card_expiry_year\n",
       "0      2023-06-24                2.0            2026.0\n",
       "1      2023-09-22                6.0            2027.0\n",
       "2      2023-07-03               12.0            2023.0\n",
       "3      2023-08-19                2.0            2026.0\n",
       "4      2023-09-30                8.0            2026.0"
      ]
     },
     "execution_count": 413,
     "metadata": {},
     "output_type": "execute_result"
    }
   ],
   "source": [
    "df[['loan_issue_date', 'card_expiry_month', 'card_expiry_year']].head()"
   ]
  },
  {
   "cell_type": "code",
   "execution_count": 414,
   "metadata": {},
   "outputs": [
    {
     "name": "stdout",
     "output_type": "stream",
     "text": [
      "Earliest loan issue date: 2023-06-01\n",
      "Latest loan issue date: 2023-10-27\n"
     ]
    }
   ],
   "source": [
    "print(f\"Earliest loan issue date: {df['loan_issue_date'].min()}\")\n",
    "print(f\"Latest loan issue date: {df['loan_issue_date'].max()}\")\n"
   ]
  },
  {
   "cell_type": "markdown",
   "metadata": {},
   "source": [
    "## Define target variable"
   ]
  },
  {
   "cell_type": "markdown",
   "metadata": {},
   "source": [
    "Describe amount outstanding"
   ]
  },
  {
   "cell_type": "code",
   "execution_count": 415,
   "metadata": {},
   "outputs": [
    {
     "data": {
      "text/html": [
       "<div>\n",
       "<style scoped>\n",
       "    .dataframe tbody tr th:only-of-type {\n",
       "        vertical-align: middle;\n",
       "    }\n",
       "\n",
       "    .dataframe tbody tr th {\n",
       "        vertical-align: top;\n",
       "    }\n",
       "\n",
       "    .dataframe thead th {\n",
       "        text-align: right;\n",
       "    }\n",
       "</style>\n",
       "<table border=\"1\" class=\"dataframe\">\n",
       "  <thead>\n",
       "    <tr style=\"text-align: right;\">\n",
       "      <th></th>\n",
       "      <th>amount_outstanding_14d</th>\n",
       "      <th>amount_outstanding_21d</th>\n",
       "    </tr>\n",
       "  </thead>\n",
       "  <tbody>\n",
       "    <tr>\n",
       "      <th>count</th>\n",
       "      <td>111902.00</td>\n",
       "      <td>111902.00</td>\n",
       "    </tr>\n",
       "    <tr>\n",
       "      <th>mean</th>\n",
       "      <td>783.98</td>\n",
       "      <td>427.41</td>\n",
       "    </tr>\n",
       "    <tr>\n",
       "      <th>std</th>\n",
       "      <td>3870.22</td>\n",
       "      <td>3287.97</td>\n",
       "    </tr>\n",
       "    <tr>\n",
       "      <th>min</th>\n",
       "      <td>0.00</td>\n",
       "      <td>0.00</td>\n",
       "    </tr>\n",
       "    <tr>\n",
       "      <th>25%</th>\n",
       "      <td>0.00</td>\n",
       "      <td>0.00</td>\n",
       "    </tr>\n",
       "    <tr>\n",
       "      <th>50%</th>\n",
       "      <td>0.00</td>\n",
       "      <td>0.00</td>\n",
       "    </tr>\n",
       "    <tr>\n",
       "      <th>75%</th>\n",
       "      <td>0.00</td>\n",
       "      <td>0.00</td>\n",
       "    </tr>\n",
       "    <tr>\n",
       "      <th>max</th>\n",
       "      <td>193313.00</td>\n",
       "      <td>193313.00</td>\n",
       "    </tr>\n",
       "  </tbody>\n",
       "</table>\n",
       "</div>"
      ],
      "text/plain": [
       "       amount_outstanding_14d  amount_outstanding_21d\n",
       "count               111902.00               111902.00\n",
       "mean                   783.98                  427.41\n",
       "std                   3870.22                 3287.97\n",
       "min                      0.00                    0.00\n",
       "25%                      0.00                    0.00\n",
       "50%                      0.00                    0.00\n",
       "75%                      0.00                    0.00\n",
       "max                 193313.00               193313.00"
      ]
     },
     "execution_count": 415,
     "metadata": {},
     "output_type": "execute_result"
    }
   ],
   "source": [
    "# Describe amount outstanding\n",
    "df[['amount_outstanding_14d', 'amount_outstanding_21d']].describe().round(2)"
   ]
  },
  {
   "cell_type": "code",
   "execution_count": 416,
   "metadata": {},
   "outputs": [
    {
     "name": "stdout",
     "output_type": "stream",
     "text": [
      "Share with non-zero amount outstanding after 14 days: 12.87%\n"
     ]
    }
   ],
   "source": [
    "# Share of loans with non-zero amount outstanding after 14 days\n",
    "share_nonzero_outstanding_14d = len(df[df.amount_outstanding_14d > 0])/(len(df))*100\n",
    "print(f'Share with non-zero amount outstanding after 14 days: {share_nonzero_outstanding_14d:.2f}%')\n"
   ]
  },
  {
   "cell_type": "code",
   "execution_count": 417,
   "metadata": {},
   "outputs": [
    {
     "name": "stdout",
     "output_type": "stream",
     "text": [
      "Share with non-zero amount outstanding after 21 days: 5.44%\n"
     ]
    }
   ],
   "source": [
    "# Share of loans with non-zero amount outstanding after 21 days\n",
    "share_nonzero_outstanding_21d = len(df[df.amount_outstanding_21d > 0])/(len(df))*100\n",
    "print(f'Share with non-zero amount outstanding after 21 days: {share_nonzero_outstanding_21d:.2f}%')"
   ]
  },
  {
   "cell_type": "markdown",
   "metadata": {},
   "source": [
    "Define target variable"
   ]
  },
  {
   "cell_type": "code",
   "execution_count": 418,
   "metadata": {},
   "outputs": [],
   "source": [
    "# Target variable\n",
    "df['default'] = (df.amount_outstanding_21d > 0).astype(int)"
   ]
  },
  {
   "cell_type": "code",
   "execution_count": 419,
   "metadata": {},
   "outputs": [
    {
     "data": {
      "text/plain": [
       "default\n",
       "0    0.946\n",
       "1    0.054\n",
       "Name: proportion, dtype: float64"
      ]
     },
     "execution_count": 419,
     "metadata": {},
     "output_type": "execute_result"
    }
   ],
   "source": [
    "# Default incidence\n",
    "df.default.value_counts(normalize=True).round(3)"
   ]
  },
  {
   "cell_type": "markdown",
   "metadata": {},
   "source": [
    "# 2. Inspect missing values"
   ]
  },
  {
   "cell_type": "code",
   "execution_count": 420,
   "metadata": {},
   "outputs": [
    {
     "data": {
      "text/plain": [
       "loan_id                          0\n",
       "loan_issue_date                  0\n",
       "loan_amount                      0\n",
       "amount_outstanding_14d           0\n",
       "amount_outstanding_21d           0\n",
       "card_expiry_month              155\n",
       "card_expiry_year               155\n",
       "existing_klarna_debt         29212\n",
       "num_active_loans                 0\n",
       "days_since_first_loan            0\n",
       "new_exposure_7d                  0\n",
       "new_exposure_14d                 0\n",
       "num_confirmed_payments_3m        0\n",
       "num_confirmed_payments_6m        0\n",
       "num_failed_payments_3m           0\n",
       "num_failed_payments_6m           0\n",
       "num_failed_payments_1y           0\n",
       "amount_repaid_14d                0\n",
       "amount_repaid_1m                 0\n",
       "amount_repaid_3m                 0\n",
       "amount_repaid_6m                 0\n",
       "amount_repaid_1y                 0\n",
       "merchant_group                   0\n",
       "merchant_category                0\n",
       "default                          0\n",
       "dtype: int64"
      ]
     },
     "execution_count": 420,
     "metadata": {},
     "output_type": "execute_result"
    }
   ],
   "source": [
    "# Which columns have missing values?\n",
    "df.isnull().sum()   "
   ]
  },
  {
   "cell_type": "markdown",
   "metadata": {},
   "source": [
    "#### Explore missing `existing_klarna_debt`"
   ]
  },
  {
   "cell_type": "code",
   "execution_count": 421,
   "metadata": {},
   "outputs": [
    {
     "name": "stdout",
     "output_type": "stream",
     "text": [
      "Numerical values for Missing and Non-missing existing_klarna_debt:\n",
      "                            Mean_m    Std_m  Mean_nonm  Std_nonm\n",
      "loan_amount                24273.7  32207.2    15207.8   18430.9\n",
      "amount_outstanding_14d      1017.3   5016.5      701.5    3369.6\n",
      "amount_outstanding_21d       576.9   4300.4      374.6    2843.6\n",
      "card_expiry_month              6.7      3.4        6.5       3.3\n",
      "card_expiry_year            2026.2      1.6     2026.0       1.5\n",
      "existing_klarna_debt           NaN      NaN    16018.2   33369.8\n",
      "num_active_loans               0.0      0.0        0.9       1.6\n",
      "days_since_first_loan         -1.0      2.5      399.4     347.7\n",
      "new_exposure_7d                9.6    790.8     4808.6   14034.3\n",
      "new_exposure_14d               9.6    790.8     6622.0   16830.7\n",
      "num_confirmed_payments_3m      0.0      0.0        5.7       9.8\n",
      "num_confirmed_payments_6m      0.0      0.0        9.9      17.0\n",
      "num_failed_payments_3m         0.0      0.0        0.0       0.4\n",
      "num_failed_payments_6m         0.0      0.0        0.1       0.9\n",
      "num_failed_payments_1y         0.0      0.0        0.3       1.7\n",
      "amount_repaid_14d              0.0      0.0     3490.7    7446.7\n",
      "amount_repaid_1m               0.0      0.0     7006.7   14133.1\n",
      "amount_repaid_3m               0.0      1.5    18505.0   34106.2\n",
      "amount_repaid_6m               0.1      9.0    32273.1   58947.6\n",
      "amount_repaid_1y               0.1      9.0    52858.3   96056.2\n",
      "default                        0.1      0.2        0.1       0.2\n"
     ]
    }
   ],
   "source": [
    "# Compare the distribution of features for missing and non-missing existing_klarna_debt\n",
    "df_missing = df[df['existing_klarna_debt'].isnull()]\n",
    "df_not_missing = df[df['existing_klarna_debt'].notnull()]\n",
    "\n",
    "# Define numerical columns\n",
    "numerical_columns = df.select_dtypes(include='number').columns\n",
    "\n",
    "\n",
    "# Calculate mean and std for both groups (restrict to numeric_features)\n",
    "mean_missing = df_missing[numerical_columns].mean()\n",
    "std_missing = df_missing[numerical_columns].std()\n",
    "\n",
    "mean_not_missing = df_not_missing[numerical_columns].mean()\n",
    "std_not_missing = df_not_missing[numerical_columns].std()\n",
    "\n",
    "# Combine into a single table\n",
    "comparison = pd.DataFrame({\n",
    "    'Mean_m': mean_missing.round(1),\n",
    "    'Std_m': std_missing.round(1),\n",
    "    'Mean_nonm': mean_not_missing.round(1),\n",
    "    'Std_nonm': std_not_missing.round(1)\n",
    "})\n",
    "\n",
    "# Display the comparison table\n",
    "print(\"Numerical values for Missing and Non-missing existing_klarna_debt:\")\n",
    "print(comparison)\n"
   ]
  },
  {
   "cell_type": "code",
   "execution_count": 422,
   "metadata": {},
   "outputs": [
    {
     "data": {
      "text/plain": [
       "days_since_first_loan\n",
       "-1      0.999384\n",
       " 0      0.000479\n",
       " 1      0.000068\n",
       " 413    0.000034\n",
       " 121    0.000034\n",
       "Name: proportion, dtype: float64"
      ]
     },
     "execution_count": 422,
     "metadata": {},
     "output_type": "execute_result"
    }
   ],
   "source": [
    "df[df['existing_klarna_debt'].isnull()].days_since_first_loan.value_counts(normalize=True)"
   ]
  },
  {
   "cell_type": "markdown",
   "metadata": {},
   "source": [
    "#### Explore missing `card_expiry_month` and `card_expiry_year`"
   ]
  },
  {
   "cell_type": "code",
   "execution_count": 423,
   "metadata": {},
   "outputs": [
    {
     "data": {
      "text/html": [
       "<div>\n",
       "<style scoped>\n",
       "    .dataframe tbody tr th:only-of-type {\n",
       "        vertical-align: middle;\n",
       "    }\n",
       "\n",
       "    .dataframe tbody tr th {\n",
       "        vertical-align: top;\n",
       "    }\n",
       "\n",
       "    .dataframe thead th {\n",
       "        text-align: right;\n",
       "    }\n",
       "</style>\n",
       "<table border=\"1\" class=\"dataframe\">\n",
       "  <thead>\n",
       "    <tr style=\"text-align: right;\">\n",
       "      <th></th>\n",
       "      <th>loan_id</th>\n",
       "      <th>loan_issue_date</th>\n",
       "      <th>loan_amount</th>\n",
       "      <th>amount_outstanding_14d</th>\n",
       "      <th>amount_outstanding_21d</th>\n",
       "      <th>card_expiry_month</th>\n",
       "      <th>card_expiry_year</th>\n",
       "      <th>existing_klarna_debt</th>\n",
       "      <th>num_active_loans</th>\n",
       "      <th>days_since_first_loan</th>\n",
       "      <th>...</th>\n",
       "      <th>num_failed_payments_6m</th>\n",
       "      <th>num_failed_payments_1y</th>\n",
       "      <th>amount_repaid_14d</th>\n",
       "      <th>amount_repaid_1m</th>\n",
       "      <th>amount_repaid_3m</th>\n",
       "      <th>amount_repaid_6m</th>\n",
       "      <th>amount_repaid_1y</th>\n",
       "      <th>merchant_group</th>\n",
       "      <th>merchant_category</th>\n",
       "      <th>default</th>\n",
       "    </tr>\n",
       "  </thead>\n",
       "  <tbody>\n",
       "    <tr>\n",
       "      <th>1546</th>\n",
       "      <td>f602c8882bdb905b905d0be81e5d8455</td>\n",
       "      <td>2023-07-12</td>\n",
       "      <td>39930</td>\n",
       "      <td>0</td>\n",
       "      <td>0</td>\n",
       "      <td>NaN</td>\n",
       "      <td>NaN</td>\n",
       "      <td>0.0</td>\n",
       "      <td>0</td>\n",
       "      <td>675</td>\n",
       "      <td>...</td>\n",
       "      <td>0</td>\n",
       "      <td>0</td>\n",
       "      <td>0</td>\n",
       "      <td>34095</td>\n",
       "      <td>68211</td>\n",
       "      <td>102327</td>\n",
       "      <td>170559</td>\n",
       "      <td>Home &amp; Garden</td>\n",
       "      <td>Kitchenware</td>\n",
       "      <td>0</td>\n",
       "    </tr>\n",
       "    <tr>\n",
       "      <th>1955</th>\n",
       "      <td>983bea05a888f6921dc19a253e1e22c2</td>\n",
       "      <td>2023-07-19</td>\n",
       "      <td>15262</td>\n",
       "      <td>3816</td>\n",
       "      <td>0</td>\n",
       "      <td>NaN</td>\n",
       "      <td>NaN</td>\n",
       "      <td>0.0</td>\n",
       "      <td>0</td>\n",
       "      <td>478</td>\n",
       "      <td>...</td>\n",
       "      <td>0</td>\n",
       "      <td>0</td>\n",
       "      <td>0</td>\n",
       "      <td>0</td>\n",
       "      <td>16592</td>\n",
       "      <td>18780</td>\n",
       "      <td>43471</td>\n",
       "      <td>Clothing &amp; Shoes</td>\n",
       "      <td>General Shoes &amp; Clothing</td>\n",
       "      <td>0</td>\n",
       "    </tr>\n",
       "    <tr>\n",
       "      <th>1973</th>\n",
       "      <td>f6fdf0bb5427187c2f6b0d1661dac697</td>\n",
       "      <td>2023-06-16</td>\n",
       "      <td>7757</td>\n",
       "      <td>1940</td>\n",
       "      <td>0</td>\n",
       "      <td>NaN</td>\n",
       "      <td>NaN</td>\n",
       "      <td>10028.0</td>\n",
       "      <td>1</td>\n",
       "      <td>866</td>\n",
       "      <td>...</td>\n",
       "      <td>0</td>\n",
       "      <td>0</td>\n",
       "      <td>0</td>\n",
       "      <td>0</td>\n",
       "      <td>4506</td>\n",
       "      <td>9011</td>\n",
       "      <td>27524</td>\n",
       "      <td>Clothing &amp; Shoes</td>\n",
       "      <td>Youthful Shoes &amp; Clothing</td>\n",
       "      <td>0</td>\n",
       "    </tr>\n",
       "    <tr>\n",
       "      <th>2002</th>\n",
       "      <td>34cc3124e842f757797a43da0f897c7e</td>\n",
       "      <td>2023-07-14</td>\n",
       "      <td>33355</td>\n",
       "      <td>8339</td>\n",
       "      <td>0</td>\n",
       "      <td>NaN</td>\n",
       "      <td>NaN</td>\n",
       "      <td>0.0</td>\n",
       "      <td>0</td>\n",
       "      <td>948</td>\n",
       "      <td>...</td>\n",
       "      <td>0</td>\n",
       "      <td>0</td>\n",
       "      <td>0</td>\n",
       "      <td>0</td>\n",
       "      <td>0</td>\n",
       "      <td>0</td>\n",
       "      <td>0</td>\n",
       "      <td>Clothing &amp; Shoes</td>\n",
       "      <td>Youthful Shoes &amp; Clothing</td>\n",
       "      <td>0</td>\n",
       "    </tr>\n",
       "    <tr>\n",
       "      <th>3223</th>\n",
       "      <td>db7fc733fab7ca64bece489827fb4097</td>\n",
       "      <td>2023-09-23</td>\n",
       "      <td>11573</td>\n",
       "      <td>1929</td>\n",
       "      <td>0</td>\n",
       "      <td>NaN</td>\n",
       "      <td>NaN</td>\n",
       "      <td>0.0</td>\n",
       "      <td>0</td>\n",
       "      <td>-1</td>\n",
       "      <td>...</td>\n",
       "      <td>0</td>\n",
       "      <td>0</td>\n",
       "      <td>0</td>\n",
       "      <td>0</td>\n",
       "      <td>0</td>\n",
       "      <td>0</td>\n",
       "      <td>0</td>\n",
       "      <td>Electronics</td>\n",
       "      <td>Diversified Electronics</td>\n",
       "      <td>0</td>\n",
       "    </tr>\n",
       "  </tbody>\n",
       "</table>\n",
       "<p>5 rows × 25 columns</p>\n",
       "</div>"
      ],
      "text/plain": [
       "                               loan_id loan_issue_date  loan_amount  \\\n",
       "1546  f602c8882bdb905b905d0be81e5d8455      2023-07-12        39930   \n",
       "1955  983bea05a888f6921dc19a253e1e22c2      2023-07-19        15262   \n",
       "1973  f6fdf0bb5427187c2f6b0d1661dac697      2023-06-16         7757   \n",
       "2002  34cc3124e842f757797a43da0f897c7e      2023-07-14        33355   \n",
       "3223  db7fc733fab7ca64bece489827fb4097      2023-09-23        11573   \n",
       "\n",
       "      amount_outstanding_14d  amount_outstanding_21d  card_expiry_month  \\\n",
       "1546                       0                       0                NaN   \n",
       "1955                    3816                       0                NaN   \n",
       "1973                    1940                       0                NaN   \n",
       "2002                    8339                       0                NaN   \n",
       "3223                    1929                       0                NaN   \n",
       "\n",
       "      card_expiry_year  existing_klarna_debt  num_active_loans  \\\n",
       "1546               NaN                   0.0                 0   \n",
       "1955               NaN                   0.0                 0   \n",
       "1973               NaN               10028.0                 1   \n",
       "2002               NaN                   0.0                 0   \n",
       "3223               NaN                   0.0                 0   \n",
       "\n",
       "      days_since_first_loan  ...  num_failed_payments_6m  \\\n",
       "1546                    675  ...                       0   \n",
       "1955                    478  ...                       0   \n",
       "1973                    866  ...                       0   \n",
       "2002                    948  ...                       0   \n",
       "3223                     -1  ...                       0   \n",
       "\n",
       "      num_failed_payments_1y  amount_repaid_14d  amount_repaid_1m  \\\n",
       "1546                       0                  0             34095   \n",
       "1955                       0                  0                 0   \n",
       "1973                       0                  0                 0   \n",
       "2002                       0                  0                 0   \n",
       "3223                       0                  0                 0   \n",
       "\n",
       "      amount_repaid_3m  amount_repaid_6m  amount_repaid_1y    merchant_group  \\\n",
       "1546             68211            102327            170559     Home & Garden   \n",
       "1955             16592             18780             43471  Clothing & Shoes   \n",
       "1973              4506              9011             27524  Clothing & Shoes   \n",
       "2002                 0                 0                 0  Clothing & Shoes   \n",
       "3223                 0                 0                 0       Electronics   \n",
       "\n",
       "              merchant_category  default  \n",
       "1546                Kitchenware        0  \n",
       "1955   General Shoes & Clothing        0  \n",
       "1973  Youthful Shoes & Clothing        0  \n",
       "2002  Youthful Shoes & Clothing        0  \n",
       "3223    Diversified Electronics        0  \n",
       "\n",
       "[5 rows x 25 columns]"
      ]
     },
     "execution_count": 423,
     "metadata": {},
     "output_type": "execute_result"
    }
   ],
   "source": [
    "df[df.card_expiry_month.isnull()].head()"
   ]
  },
  {
   "cell_type": "code",
   "execution_count": 424,
   "metadata": {},
   "outputs": [
    {
     "data": {
      "text/plain": [
       "155"
      ]
     },
     "execution_count": 424,
     "metadata": {},
     "output_type": "execute_result"
    }
   ],
   "source": [
    "# Verify if both card_expiry_month and card_expiry_year are missing for the same rows by checking the number of rows where both are missing\n",
    "len(df[(df.card_expiry_month.isnull()) & (df.card_expiry_year.isnull())])"
   ]
  },
  {
   "cell_type": "code",
   "execution_count": 425,
   "metadata": {},
   "outputs": [
    {
     "name": "stdout",
     "output_type": "stream",
     "text": [
      "Earliest loan issue date when card exiry missing: 2023-06-01\n",
      "Latest loan issue date when card exiry missing: 2023-10-24\n"
     ]
    }
   ],
   "source": [
    "# Check max and min loan issue date for missing card_expiry_month\n",
    "print(f\"Earliest loan issue date when card exiry missing: {df[df.card_expiry_month.isnull()]['loan_issue_date'].min()}\")\n",
    "print(f\"Latest loan issue date when card exiry missing: {df[df.card_expiry_month.isnull()]['loan_issue_date'].max()}\")"
   ]
  },
  {
   "cell_type": "code",
   "execution_count": 426,
   "metadata": {},
   "outputs": [
    {
     "name": "stdout",
     "output_type": "stream",
     "text": [
      "Comparison of features for Missing and Non-missing card_expiry_month & card_expiry_year:\n",
      "                            Mean_m     Std_m  Mean_nonm  Std_nonm\n",
      "loan_amount                16552.2   16345.9    17575.9   23195.5\n",
      "amount_outstanding_14d      4397.5    6749.6      779.0    3862.4\n",
      "amount_outstanding_21d      1493.2    6217.9      425.9    3281.9\n",
      "card_expiry_month              NaN       NaN        6.6       3.3\n",
      "card_expiry_year               NaN       NaN     2026.1       1.5\n",
      "existing_klarna_debt       20093.0   44207.0    16010.8   33346.6\n",
      "num_active_loans               1.3       3.0        0.7       1.4\n",
      "days_since_first_loan        548.4     331.4      294.5     346.7\n",
      "new_exposure_7d             4083.2    9352.4     3555.1   12257.1\n",
      "new_exposure_14d            6661.6   15416.4     4893.4   14761.2\n",
      "num_confirmed_payments_3m      7.1      14.8        4.2       8.8\n",
      "num_confirmed_payments_6m     12.6      25.2        7.3      15.2\n",
      "num_failed_payments_3m         0.0       0.0        0.0       0.3\n",
      "num_failed_payments_6m         0.2       0.7        0.1       0.8\n",
      "num_failed_payments_1y         0.4       1.2        0.2       1.5\n",
      "amount_repaid_14d           3521.0    9332.6     2578.2    6577.8\n",
      "amount_repaid_1m            7621.5   18037.7     5174.2   12523.3\n",
      "amount_repaid_3m           22376.5   41618.7    13662.2   30404.3\n",
      "amount_repaid_6m           40534.2   69195.4    23825.1   52587.8\n",
      "amount_repaid_1y           70232.2  117538.6    39016.4   85714.1\n",
      "default                        0.1       0.3        0.1       0.2\n"
     ]
    }
   ],
   "source": [
    "# Compare the distribution of features for missing and non-missing existing_klarna_debt\n",
    "df_missing = df[df['card_expiry_month'].isnull()]\n",
    "df_not_missing = df[df['card_expiry_month'].notnull()]\n",
    "\n",
    "\n",
    "# Calculate mean and std for both groups (restrict to numeric_features)\n",
    "mean_missing = df_missing[numerical_columns].mean()\n",
    "std_missing = df_missing[numerical_columns].std()\n",
    "\n",
    "mean_not_missing = df_not_missing[numerical_columns].mean()\n",
    "std_not_missing = df_not_missing[numerical_columns].std()\n",
    "\n",
    "# Combine into a single table\n",
    "comparison = pd.DataFrame({\n",
    "    'Mean_m': mean_missing.round(1),\n",
    "    'Std_m': std_missing.round(1),\n",
    "    'Mean_nonm': mean_not_missing.round(1),\n",
    "    'Std_nonm': std_not_missing.round(1)\n",
    "})\n",
    "\n",
    "# Display the comparison table\n",
    "print(\"Comparison of features for Missing and Non-missing card_expiry_month & card_expiry_year:\")\n",
    "print(comparison)\n"
   ]
  },
  {
   "cell_type": "markdown",
   "metadata": {},
   "source": [
    "### Insights on Missing Values\n",
    "\n",
    "**Missing existing_klarna_debt:**\n",
    "- `num_active_loans` is always 0.\n",
    "- All `num_confirmed_payments_*`, `num_failed_payments_*`, and `amount_repaid_*` fields are 0.\n",
    "- 99% of these observations have `days_since_first_loan` set to -1.\n",
    "\n",
    "This suggests that `existing_klarna_debt` is missing primarily for customers with no prior history, indicating they are likely new customers.\n",
    "\n",
    "**Missing card_expiry_month and card_expiry_year:**\n",
    "- Variables such as `existing_klarna_debt`, `num_active_loans`, and `num_failed_payments_1y` show significant differences when `card_expiry_date` is missing.\n",
    "\n",
    "---\n",
    "\n",
    "### Modeling Decisions\n",
    "\n",
    "**For existing_klarna_debt:**\n",
    "1. Test imputing `existing_klarna_debt` with 0 and introducing an indicator variable to flag missing values.\n",
    "2. Compare this approach to leaving the variable as-is.\n",
    "\n",
    "Preliminary analysis suggests that the missingness indicator could serve as a proxy for identifying new customers.\n",
    "\n",
    "**For card_expiry_month and card_expiry_year:**\n",
    "1. Test introducing an indicator variable to flag missing values and evaluate its predictive value.\n",
    "\n",
    "---\n",
    "\n",
    "**Note:** In a real-world scenario, I would consult with the team responsible for these features to ensure the proposed approach aligns with their domain knowledge.\n"
   ]
  },
  {
   "cell_type": "markdown",
   "metadata": {},
   "source": [
    "# 3. Explore data"
   ]
  },
  {
   "cell_type": "markdown",
   "metadata": {},
   "source": [
    "## Split data"
   ]
  },
  {
   "cell_type": "code",
   "execution_count": 427,
   "metadata": {},
   "outputs": [],
   "source": [
    "# Splitting the data into train, validation and test sets\n",
    "df_full_train, df_test = train_test_split(df, test_size=0.2, random_state=42)\n",
    "df_train, df_val = train_test_split(df_full_train, test_size=0.25, random_state=42)"
   ]
  },
  {
   "cell_type": "code",
   "execution_count": 428,
   "metadata": {},
   "outputs": [
    {
     "name": "stdout",
     "output_type": "stream",
     "text": [
      "(67140, 25) (22381, 25) (22381, 25)\n"
     ]
    }
   ],
   "source": [
    "# print shapes\n",
    "print(df_train.shape, df_val.shape, df_test.shape)"
   ]
  },
  {
   "cell_type": "markdown",
   "metadata": {},
   "source": [
    "Check default incidence in the splitted data"
   ]
  },
  {
   "cell_type": "code",
   "execution_count": 429,
   "metadata": {},
   "outputs": [
    {
     "data": {
      "text/plain": [
       "default\n",
       "0    0.946559\n",
       "1    0.053441\n",
       "Name: proportion, dtype: float64"
      ]
     },
     "execution_count": 429,
     "metadata": {},
     "output_type": "execute_result"
    }
   ],
   "source": [
    "df_train.default.value_counts(normalize=True)"
   ]
  },
  {
   "cell_type": "code",
   "execution_count": 430,
   "metadata": {},
   "outputs": [
    {
     "data": {
      "text/plain": [
       "default\n",
       "0    0.943747\n",
       "1    0.056253\n",
       "Name: proportion, dtype: float64"
      ]
     },
     "execution_count": 430,
     "metadata": {},
     "output_type": "execute_result"
    }
   ],
   "source": [
    "df_val.default.value_counts(normalize=True)"
   ]
  },
  {
   "cell_type": "code",
   "execution_count": 431,
   "metadata": {},
   "outputs": [
    {
     "data": {
      "text/plain": [
       "default\n",
       "0    0.944507\n",
       "1    0.055493\n",
       "Name: proportion, dtype: float64"
      ]
     },
     "execution_count": 431,
     "metadata": {},
     "output_type": "execute_result"
    }
   ],
   "source": [
    "df_test.default.value_counts(normalize=True)"
   ]
  },
  {
   "cell_type": "code",
   "execution_count": 432,
   "metadata": {},
   "outputs": [],
   "source": [
    "# reset index\n",
    "df_train = df_train.reset_index(drop=True)"
   ]
  },
  {
   "cell_type": "code",
   "execution_count": 433,
   "metadata": {},
   "outputs": [],
   "source": [
    "# Add features\n",
    "df_train = create_features(df_train)"
   ]
  },
  {
   "cell_type": "code",
   "execution_count": 434,
   "metadata": {},
   "outputs": [],
   "source": [
    "# Add column: months to card expiration\n",
    "df_train = calculate_months_to_card_expiration(df_train)"
   ]
  },
  {
   "cell_type": "markdown",
   "metadata": {},
   "source": [
    "## Prepare feature list"
   ]
  },
  {
   "cell_type": "code",
   "execution_count": 435,
   "metadata": {},
   "outputs": [
    {
     "name": "stdout",
     "output_type": "stream",
     "text": [
      "\n",
      "Categorical features to explore:\n",
      "\n",
      "merchant_category\n",
      "merchant_group\n",
      "\n",
      "Numerical features to explore:\n",
      "\n",
      "amount_repaid_14d\n",
      "amount_repaid_1m\n",
      "amount_repaid_1y\n",
      "amount_repaid_3m\n",
      "amount_repaid_6m\n",
      "card_expiry_missing\n",
      "category_avg_loan\n",
      "category_default_rate\n",
      "days_since_first_loan\n",
      "existing_debt_missing\n",
      "existing_klarna_debt\n",
      "group_avg_loan\n",
      "group_default_rate\n",
      "loan_amount\n",
      "loan_to_debt_ratio\n",
      "months_to_card_expiration\n",
      "new_exposure_14d\n",
      "new_exposure_14d_to_debt\n",
      "new_exposure_7d\n",
      "new_exposure_7d_to_debt\n",
      "num_active_loans\n",
      "num_conf_payments_6m_to_num_loans\n",
      "num_confirmed_payments_3m\n",
      "num_confirmed_payments_6m\n",
      "num_failed_payments_1y\n",
      "num_failed_payments_3m\n",
      "num_failed_payments_6m\n",
      "num_failed_payments_6m_to_num_loans\n",
      "num_failed_to_conf_payments_3m\n",
      "num_failed_to_conf_payments_6m\n",
      "repayment_14d_to_debt\n",
      "repayment_1m_to_debt\n",
      "repayment_1y_to_debt\n",
      "repayment_3m_to_debt\n",
      "repayment_6m_to_debt\n",
      "repayment_consistency\n",
      "repayment_rate_to_new_14d\n",
      "repayment_rate_to_num\n"
     ]
    }
   ],
   "source": [
    "# Define list of columns that won't be used in the model\n",
    "helper_columns = ['amount_outstanding_14d', 'amount_outstanding_21d', \n",
    "                  'card_expiry_month', 'card_expiry_year','card_expiry_date', 'loan_id', 'loan_issue_date']\n",
    "\n",
    "# Extract categorical and numerical columns\n",
    "categorical_features_eda = df_train.select_dtypes(include='object').columns.difference(helper_columns).tolist()\n",
    "numerical_features_eda = df_train.select_dtypes(exclude='object').columns.difference(helper_columns + ['default']).tolist()\n",
    "\n",
    "\n",
    "# Print categorical features \n",
    "print(\"\\nCategorical features to explore:\\n\")\n",
    "print(\"\\n\".join(categorical_features_eda))\n",
    "\n",
    "# Print numerical features \n",
    "print(\"\\nNumerical features to explore:\\n\")\n",
    "print(\"\\n\".join(numerical_features_eda))\n",
    "\n"
   ]
  },
  {
   "cell_type": "code",
   "execution_count": 436,
   "metadata": {},
   "outputs": [],
   "source": [
    "# Get the top n merchant categories by count\n",
    "n = 10\n",
    "\n",
    "# Merchant categories\n",
    "top_n_categories = df_train['merchant_category'].value_counts().nlargest(n).index\n",
    "\n",
    "# Merchant groups\n",
    "top_n_groups = df_train['merchant_group'].value_counts().nlargest(n).index\n",
    "\n",
    "# Reassign categories outside the top n and 'Unknown' to 'else'\n",
    "df_train['merchant_category'] = df_train['merchant_category'].apply(\n",
    "    lambda x: 'Other' if x not in top_n_categories or x == 'Unknown' else x\n",
    ")\n",
    "\n",
    "# Reassign groups outside the top n and 'Unknown' to 'else'\n",
    "df_train['merchant_group'] = df_train['merchant_group'].apply(\n",
    "    lambda x: 'Other' if x not in top_n_groups or x == 'Unknown' else x\n",
    ")\n",
    "\n"
   ]
  },
  {
   "cell_type": "markdown",
   "metadata": {},
   "source": [
    "# EDA"
   ]
  },
  {
   "cell_type": "code",
   "execution_count": 437,
   "metadata": {},
   "outputs": [
    {
     "data": {
      "text/plain": [
       "np.int64(0)"
      ]
     },
     "execution_count": 437,
     "metadata": {},
     "output_type": "execute_result"
    }
   ],
   "source": [
    "# Are there any duplicated rows?\n",
    "df_train.duplicated(subset=None).sum()\n"
   ]
  },
  {
   "cell_type": "code",
   "execution_count": 438,
   "metadata": {},
   "outputs": [
    {
     "name": "stdout",
     "output_type": "stream",
     "text": [
      "Global default rate: 0.05\n"
     ]
    }
   ],
   "source": [
    "# Baseline default rate\n",
    "global_default_rate = df_train.default.mean()\n",
    "print(f'Global default rate: {global_default_rate:.2f}')"
   ]
  },
  {
   "cell_type": "markdown",
   "metadata": {},
   "source": [
    "## Explore categorical features"
   ]
  },
  {
   "cell_type": "code",
   "execution_count": 439,
   "metadata": {},
   "outputs": [
    {
     "data": {
      "text/plain": [
       "merchant_category    11\n",
       "merchant_group       10\n",
       "dtype: int64"
      ]
     },
     "execution_count": 439,
     "metadata": {},
     "output_type": "execute_result"
    }
   ],
   "source": [
    "df_train[categorical_features_eda].nunique()"
   ]
  },
  {
   "cell_type": "code",
   "execution_count": 440,
   "metadata": {},
   "outputs": [
    {
     "data": {
      "text/plain": [
       "merchant_group\n",
       "Clothing & Shoes          38766\n",
       "Intangible products        9455\n",
       "Leisure, Sport & Hobby     5698\n",
       "Jewelry & Accessories      4836\n",
       "Home & Garden              2467\n",
       "Health & Beauty            2172\n",
       "Electronics                1303\n",
       "Food & Beverage            1215\n",
       "Other                      1021\n",
       "Children Products           207\n",
       "Name: count, dtype: int64"
      ]
     },
     "execution_count": 440,
     "metadata": {},
     "output_type": "execute_result"
    }
   ],
   "source": [
    "df_train.merchant_group.value_counts()"
   ]
  },
  {
   "cell_type": "code",
   "execution_count": 441,
   "metadata": {},
   "outputs": [
    {
     "data": {
      "text/plain": [
       "merchant_category\n",
       "General Shoes & Clothing             22731\n",
       "Youthful Shoes & Clothing            10513\n",
       "Other                                 9404\n",
       "Adult Shoes & Clothing                5492\n",
       "Event - Broker & Agencies             3914\n",
       "Travel - Accommodation & Resorts      3817\n",
       "Diversified Jewelry & Accessories     3695\n",
       "Concept Stores & Miscellaneous        2742\n",
       "Sports Gear & Outdoor                 2613\n",
       "Food & Beverage                       1193\n",
       "Furniture                             1026\n",
       "Name: count, dtype: int64"
      ]
     },
     "execution_count": 441,
     "metadata": {},
     "output_type": "execute_result"
    }
   ],
   "source": [
    "df_train.merchant_category.value_counts()"
   ]
  },
  {
   "cell_type": "code",
   "execution_count": 442,
   "metadata": {},
   "outputs": [
    {
     "name": "stdout",
     "output_type": "stream",
     "text": [
      "merchant_group\n"
     ]
    },
    {
     "data": {
      "text/html": [
       "<div>\n",
       "<style scoped>\n",
       "    .dataframe tbody tr th:only-of-type {\n",
       "        vertical-align: middle;\n",
       "    }\n",
       "\n",
       "    .dataframe tbody tr th {\n",
       "        vertical-align: top;\n",
       "    }\n",
       "\n",
       "    .dataframe thead th {\n",
       "        text-align: right;\n",
       "    }\n",
       "</style>\n",
       "<table border=\"1\" class=\"dataframe\">\n",
       "  <thead>\n",
       "    <tr style=\"text-align: right;\">\n",
       "      <th></th>\n",
       "      <th>mean</th>\n",
       "      <th>count</th>\n",
       "      <th>diff</th>\n",
       "      <th>risk</th>\n",
       "    </tr>\n",
       "    <tr>\n",
       "      <th>merchant_group</th>\n",
       "      <th></th>\n",
       "      <th></th>\n",
       "      <th></th>\n",
       "      <th></th>\n",
       "    </tr>\n",
       "  </thead>\n",
       "  <tbody>\n",
       "    <tr>\n",
       "      <th>Clothing &amp; Shoes</th>\n",
       "      <td>0.057138</td>\n",
       "      <td>38766</td>\n",
       "      <td>0.003697</td>\n",
       "      <td>1.069182</td>\n",
       "    </tr>\n",
       "    <tr>\n",
       "      <th>Intangible products</th>\n",
       "      <td>0.060603</td>\n",
       "      <td>9455</td>\n",
       "      <td>0.007162</td>\n",
       "      <td>1.134023</td>\n",
       "    </tr>\n",
       "    <tr>\n",
       "      <th>Leisure, Sport &amp; Hobby</th>\n",
       "      <td>0.035627</td>\n",
       "      <td>5698</td>\n",
       "      <td>-0.017814</td>\n",
       "      <td>0.666657</td>\n",
       "    </tr>\n",
       "    <tr>\n",
       "      <th>Jewelry &amp; Accessories</th>\n",
       "      <td>0.038048</td>\n",
       "      <td>4836</td>\n",
       "      <td>-0.015393</td>\n",
       "      <td>0.711968</td>\n",
       "    </tr>\n",
       "    <tr>\n",
       "      <th>Home &amp; Garden</th>\n",
       "      <td>0.041751</td>\n",
       "      <td>2467</td>\n",
       "      <td>-0.011689</td>\n",
       "      <td>0.781262</td>\n",
       "    </tr>\n",
       "    <tr>\n",
       "      <th>Health &amp; Beauty</th>\n",
       "      <td>0.052947</td>\n",
       "      <td>2172</td>\n",
       "      <td>-0.000494</td>\n",
       "      <td>0.990756</td>\n",
       "    </tr>\n",
       "    <tr>\n",
       "      <th>Electronics</th>\n",
       "      <td>0.044513</td>\n",
       "      <td>1303</td>\n",
       "      <td>-0.008928</td>\n",
       "      <td>0.832938</td>\n",
       "    </tr>\n",
       "    <tr>\n",
       "      <th>Food &amp; Beverage</th>\n",
       "      <td>0.072428</td>\n",
       "      <td>1215</td>\n",
       "      <td>0.018987</td>\n",
       "      <td>1.355300</td>\n",
       "    </tr>\n",
       "    <tr>\n",
       "      <th>Other</th>\n",
       "      <td>0.040157</td>\n",
       "      <td>1021</td>\n",
       "      <td>-0.013284</td>\n",
       "      <td>0.751427</td>\n",
       "    </tr>\n",
       "    <tr>\n",
       "      <th>Children Products</th>\n",
       "      <td>0.038647</td>\n",
       "      <td>207</td>\n",
       "      <td>-0.014793</td>\n",
       "      <td>0.723184</td>\n",
       "    </tr>\n",
       "  </tbody>\n",
       "</table>\n",
       "</div>"
      ],
      "text/plain": [
       "                            mean  count      diff      risk\n",
       "merchant_group                                             \n",
       "Clothing & Shoes        0.057138  38766  0.003697  1.069182\n",
       "Intangible products     0.060603   9455  0.007162  1.134023\n",
       "Leisure, Sport & Hobby  0.035627   5698 -0.017814  0.666657\n",
       "Jewelry & Accessories   0.038048   4836 -0.015393  0.711968\n",
       "Home & Garden           0.041751   2467 -0.011689  0.781262\n",
       "Health & Beauty         0.052947   2172 -0.000494  0.990756\n",
       "Electronics             0.044513   1303 -0.008928  0.832938\n",
       "Food & Beverage         0.072428   1215  0.018987  1.355300\n",
       "Other                   0.040157   1021 -0.013284  0.751427\n",
       "Children Products       0.038647    207 -0.014793  0.723184"
      ]
     },
     "metadata": {},
     "output_type": "display_data"
    },
    {
     "name": "stdout",
     "output_type": "stream",
     "text": [
      "\n",
      "\n",
      "merchant_category\n"
     ]
    },
    {
     "data": {
      "text/html": [
       "<div>\n",
       "<style scoped>\n",
       "    .dataframe tbody tr th:only-of-type {\n",
       "        vertical-align: middle;\n",
       "    }\n",
       "\n",
       "    .dataframe tbody tr th {\n",
       "        vertical-align: top;\n",
       "    }\n",
       "\n",
       "    .dataframe thead th {\n",
       "        text-align: right;\n",
       "    }\n",
       "</style>\n",
       "<table border=\"1\" class=\"dataframe\">\n",
       "  <thead>\n",
       "    <tr style=\"text-align: right;\">\n",
       "      <th></th>\n",
       "      <th>mean</th>\n",
       "      <th>count</th>\n",
       "      <th>diff</th>\n",
       "      <th>risk</th>\n",
       "    </tr>\n",
       "    <tr>\n",
       "      <th>merchant_category</th>\n",
       "      <th></th>\n",
       "      <th></th>\n",
       "      <th></th>\n",
       "      <th></th>\n",
       "    </tr>\n",
       "  </thead>\n",
       "  <tbody>\n",
       "    <tr>\n",
       "      <th>General Shoes &amp; Clothing</th>\n",
       "      <td>0.050372</td>\n",
       "      <td>22731</td>\n",
       "      <td>-0.003069</td>\n",
       "      <td>0.942575</td>\n",
       "    </tr>\n",
       "    <tr>\n",
       "      <th>Youthful Shoes &amp; Clothing</th>\n",
       "      <td>0.080186</td>\n",
       "      <td>10513</td>\n",
       "      <td>0.026746</td>\n",
       "      <td>1.500479</td>\n",
       "    </tr>\n",
       "    <tr>\n",
       "      <th>Other</th>\n",
       "      <td>0.049872</td>\n",
       "      <td>9404</td>\n",
       "      <td>-0.003568</td>\n",
       "      <td>0.933231</td>\n",
       "    </tr>\n",
       "    <tr>\n",
       "      <th>Adult Shoes &amp; Clothing</th>\n",
       "      <td>0.041151</td>\n",
       "      <td>5492</td>\n",
       "      <td>-0.012290</td>\n",
       "      <td>0.770029</td>\n",
       "    </tr>\n",
       "    <tr>\n",
       "      <th>Event - Broker &amp; Agencies</th>\n",
       "      <td>0.045478</td>\n",
       "      <td>3914</td>\n",
       "      <td>-0.007963</td>\n",
       "      <td>0.850997</td>\n",
       "    </tr>\n",
       "    <tr>\n",
       "      <th>Travel - Accommodation &amp; Resorts</th>\n",
       "      <td>0.072046</td>\n",
       "      <td>3817</td>\n",
       "      <td>0.018606</td>\n",
       "      <td>1.348154</td>\n",
       "    </tr>\n",
       "    <tr>\n",
       "      <th>Diversified Jewelry &amp; Accessories</th>\n",
       "      <td>0.033829</td>\n",
       "      <td>3695</td>\n",
       "      <td>-0.019611</td>\n",
       "      <td>0.633030</td>\n",
       "    </tr>\n",
       "    <tr>\n",
       "      <th>Concept Stores &amp; Miscellaneous</th>\n",
       "      <td>0.036470</td>\n",
       "      <td>2742</td>\n",
       "      <td>-0.016971</td>\n",
       "      <td>0.682435</td>\n",
       "    </tr>\n",
       "    <tr>\n",
       "      <th>Sports Gear &amp; Outdoor</th>\n",
       "      <td>0.036357</td>\n",
       "      <td>2613</td>\n",
       "      <td>-0.017084</td>\n",
       "      <td>0.680320</td>\n",
       "    </tr>\n",
       "    <tr>\n",
       "      <th>Food &amp; Beverage</th>\n",
       "      <td>0.073764</td>\n",
       "      <td>1193</td>\n",
       "      <td>0.020323</td>\n",
       "      <td>1.380293</td>\n",
       "    </tr>\n",
       "    <tr>\n",
       "      <th>Furniture</th>\n",
       "      <td>0.042885</td>\n",
       "      <td>1026</td>\n",
       "      <td>-0.010556</td>\n",
       "      <td>0.802480</td>\n",
       "    </tr>\n",
       "  </tbody>\n",
       "</table>\n",
       "</div>"
      ],
      "text/plain": [
       "                                       mean  count      diff      risk\n",
       "merchant_category                                                     \n",
       "General Shoes & Clothing           0.050372  22731 -0.003069  0.942575\n",
       "Youthful Shoes & Clothing          0.080186  10513  0.026746  1.500479\n",
       "Other                              0.049872   9404 -0.003568  0.933231\n",
       "Adult Shoes & Clothing             0.041151   5492 -0.012290  0.770029\n",
       "Event - Broker & Agencies          0.045478   3914 -0.007963  0.850997\n",
       "Travel - Accommodation & Resorts   0.072046   3817  0.018606  1.348154\n",
       "Diversified Jewelry & Accessories  0.033829   3695 -0.019611  0.633030\n",
       "Concept Stores & Miscellaneous     0.036470   2742 -0.016971  0.682435\n",
       "Sports Gear & Outdoor              0.036357   2613 -0.017084  0.680320\n",
       "Food & Beverage                    0.073764   1193  0.020323  1.380293\n",
       "Furniture                          0.042885   1026 -0.010556  0.802480"
      ]
     },
     "metadata": {},
     "output_type": "display_data"
    },
    {
     "name": "stdout",
     "output_type": "stream",
     "text": [
      "\n",
      "\n"
     ]
    }
   ],
   "source": [
    "# Inspect outcome for each categorical column\n",
    "merchant_features = ['merchant_group', 'merchant_category']\n",
    "\n",
    "for c in merchant_features:\n",
    "    print(c)\n",
    "    df_group = df_train.groupby(c).default.agg(['mean', 'count'])\n",
    "    df_group['diff'] = df_group['mean'] - global_default_rate\n",
    "    df_group['risk'] = df_group['mean'] / global_default_rate #higher-than-average default risk?\n",
    "\n",
    "    display(df_group.sort_values(by='count', ascending=False))\n",
    "    print()\n",
    "    print()"
   ]
  },
  {
   "cell_type": "code",
   "execution_count": 443,
   "metadata": {},
   "outputs": [
    {
     "data": {
      "image/png": "[encoded data removed]",
      "text/plain": [
       "<Figure size 1000x600 with 1 Axes>"
      ]
     },
     "metadata": {},
     "output_type": "display_data"
    }
   ],
   "source": [
    "\n",
    "\n",
    "#  Calculate mean default by merchant_category\n",
    "mean_default = df_train.groupby('merchant_category')['default'].mean().sort_values(ascending=False)\n",
    "\n",
    "# Plot \n",
    "plt.figure(figsize=(10, 6))\n",
    "mean_default.plot(kind='bar', color='skyblue', edgecolor='black')\n",
    "plt.title('Mean Default Rate by Merchant Category')\n",
    "plt.ylabel('Mean Default Rate')\n",
    "plt.xlabel('Merchant Category')\n",
    "plt.xticks(rotation=45) \n",
    "plt.tight_layout()\n",
    "plt.show()\n"
   ]
  },
  {
   "cell_type": "code",
   "execution_count": 444,
   "metadata": {},
   "outputs": [
    {
     "data": {
      "image/png": "[encoded data removed]",
      "text/plain": [
       "<Figure size 800x400 with 1 Axes>"
      ]
     },
     "metadata": {},
     "output_type": "display_data"
    }
   ],
   "source": [
    "# Calculate mean default by merchant_category\n",
    "mean_default = df_train.groupby('merchant_category')['loan_amount'].mean().sort_values(ascending=False)\n",
    "\n",
    "# Plot with adjusted figure size and label font size\n",
    "plt.figure(figsize=(8, 4))  # Smaller figure size\n",
    "mean_default.plot(kind='bar', color='skyblue', edgecolor='black')\n",
    "\n",
    "# Add titles and labels\n",
    "plt.title('Mean Default Rate by Merchant Category', fontsize=12)  # Adjust title font size\n",
    "plt.ylabel('Mean Default Rate', fontsize=10)\n",
    "plt.xlabel('Merchant Category', fontsize=10)\n",
    "\n",
    "# Adjust x-axis label size\n",
    "plt.xticks(rotation=45, fontsize=4)  # Smaller x-axis labels\n",
    "plt.tight_layout()\n",
    "plt.show()\n"
   ]
  },
  {
   "cell_type": "code",
   "execution_count": 445,
   "metadata": {},
   "outputs": [
    {
     "data": {
      "text/html": [
       "<div>\n",
       "<style scoped>\n",
       "    .dataframe tbody tr th:only-of-type {\n",
       "        vertical-align: middle;\n",
       "    }\n",
       "\n",
       "    .dataframe tbody tr th {\n",
       "        vertical-align: top;\n",
       "    }\n",
       "\n",
       "    .dataframe thead th {\n",
       "        text-align: right;\n",
       "    }\n",
       "</style>\n",
       "<table border=\"1\" class=\"dataframe\">\n",
       "  <thead>\n",
       "    <tr style=\"text-align: right;\">\n",
       "      <th></th>\n",
       "      <th>category_avg_loan</th>\n",
       "      <th>group_avg_loan</th>\n",
       "      <th>category_default_rate</th>\n",
       "      <th>group_default_rate</th>\n",
       "    </tr>\n",
       "  </thead>\n",
       "  <tbody>\n",
       "    <tr>\n",
       "      <th>count</th>\n",
       "      <td>67140.00</td>\n",
       "      <td>67140.00</td>\n",
       "      <td>67140.00</td>\n",
       "      <td>67140.00</td>\n",
       "    </tr>\n",
       "    <tr>\n",
       "      <th>mean</th>\n",
       "      <td>17551.78</td>\n",
       "      <td>17551.78</td>\n",
       "      <td>0.05</td>\n",
       "      <td>0.05</td>\n",
       "    </tr>\n",
       "    <tr>\n",
       "      <th>std</th>\n",
       "      <td>12166.55</td>\n",
       "      <td>9879.95</td>\n",
       "      <td>0.02</td>\n",
       "      <td>0.01</td>\n",
       "    </tr>\n",
       "    <tr>\n",
       "      <th>min</th>\n",
       "      <td>5897.00</td>\n",
       "      <td>12491.33</td>\n",
       "      <td>0.00</td>\n",
       "      <td>0.04</td>\n",
       "    </tr>\n",
       "    <tr>\n",
       "      <th>25%</th>\n",
       "      <td>12223.48</td>\n",
       "      <td>12491.33</td>\n",
       "      <td>0.04</td>\n",
       "      <td>0.05</td>\n",
       "    </tr>\n",
       "    <tr>\n",
       "      <th>50%</th>\n",
       "      <td>12223.48</td>\n",
       "      <td>12491.33</td>\n",
       "      <td>0.05</td>\n",
       "      <td>0.06</td>\n",
       "    </tr>\n",
       "    <tr>\n",
       "      <th>75%</th>\n",
       "      <td>15743.14</td>\n",
       "      <td>14966.41</td>\n",
       "      <td>0.07</td>\n",
       "      <td>0.06</td>\n",
       "    </tr>\n",
       "    <tr>\n",
       "      <th>max</th>\n",
       "      <td>60242.13</td>\n",
       "      <td>40380.91</td>\n",
       "      <td>0.30</td>\n",
       "      <td>0.07</td>\n",
       "    </tr>\n",
       "  </tbody>\n",
       "</table>\n",
       "</div>"
      ],
      "text/plain": [
       "       category_avg_loan  group_avg_loan  category_default_rate  \\\n",
       "count           67140.00        67140.00               67140.00   \n",
       "mean            17551.78        17551.78                   0.05   \n",
       "std             12166.55         9879.95                   0.02   \n",
       "min              5897.00        12491.33                   0.00   \n",
       "25%             12223.48        12491.33                   0.04   \n",
       "50%             12223.48        12491.33                   0.05   \n",
       "75%             15743.14        14966.41                   0.07   \n",
       "max             60242.13        40380.91                   0.30   \n",
       "\n",
       "       group_default_rate  \n",
       "count            67140.00  \n",
       "mean                 0.05  \n",
       "std                  0.01  \n",
       "min                  0.04  \n",
       "25%                  0.05  \n",
       "50%                  0.06  \n",
       "75%                  0.06  \n",
       "max                  0.07  "
      ]
     },
     "execution_count": 445,
     "metadata": {},
     "output_type": "execute_result"
    }
   ],
   "source": [
    "# Describe merchant variables\n",
    "df_train[['category_avg_loan', 'group_avg_loan', 'category_default_rate', 'group_default_rate']].describe().round(2)"
   ]
  },
  {
   "cell_type": "markdown",
   "metadata": {},
   "source": [
    "## Explore numerical features"
   ]
  },
  {
   "cell_type": "code",
   "execution_count": 446,
   "metadata": {},
   "outputs": [
    {
     "data": {
      "text/html": [
       "<div>\n",
       "<style scoped>\n",
       "    .dataframe tbody tr th:only-of-type {\n",
       "        vertical-align: middle;\n",
       "    }\n",
       "\n",
       "    .dataframe tbody tr th {\n",
       "        vertical-align: top;\n",
       "    }\n",
       "\n",
       "    .dataframe thead th {\n",
       "        text-align: right;\n",
       "    }\n",
       "</style>\n",
       "<table border=\"1\" class=\"dataframe\">\n",
       "  <thead>\n",
       "    <tr style=\"text-align: right;\">\n",
       "      <th></th>\n",
       "      <th>amount_repaid_14d</th>\n",
       "      <th>amount_repaid_1m</th>\n",
       "      <th>amount_repaid_1y</th>\n",
       "      <th>amount_repaid_3m</th>\n",
       "      <th>amount_repaid_6m</th>\n",
       "      <th>card_expiry_missing</th>\n",
       "      <th>category_avg_loan</th>\n",
       "      <th>category_default_rate</th>\n",
       "      <th>days_since_first_loan</th>\n",
       "      <th>existing_debt_missing</th>\n",
       "      <th>...</th>\n",
       "      <th>num_failed_to_conf_payments_3m</th>\n",
       "      <th>num_failed_to_conf_payments_6m</th>\n",
       "      <th>repayment_14d_to_debt</th>\n",
       "      <th>repayment_1m_to_debt</th>\n",
       "      <th>repayment_1y_to_debt</th>\n",
       "      <th>repayment_3m_to_debt</th>\n",
       "      <th>repayment_6m_to_debt</th>\n",
       "      <th>repayment_consistency</th>\n",
       "      <th>repayment_rate_to_new_14d</th>\n",
       "      <th>repayment_rate_to_num</th>\n",
       "    </tr>\n",
       "  </thead>\n",
       "  <tbody>\n",
       "    <tr>\n",
       "      <th>count</th>\n",
       "      <td>67140.00</td>\n",
       "      <td>67140.00</td>\n",
       "      <td>67140.00</td>\n",
       "      <td>67140.0</td>\n",
       "      <td>67140.00</td>\n",
       "      <td>67140.00</td>\n",
       "      <td>67140.00</td>\n",
       "      <td>67140.00</td>\n",
       "      <td>67140.00</td>\n",
       "      <td>67140.00</td>\n",
       "      <td>...</td>\n",
       "      <td>67140.00</td>\n",
       "      <td>67140.00</td>\n",
       "      <td>67140.00</td>\n",
       "      <td>67140.00</td>\n",
       "      <td>67140.00</td>\n",
       "      <td>67140.00</td>\n",
       "      <td>67140.00</td>\n",
       "      <td>67140.00</td>\n",
       "      <td>6.714000e+04</td>\n",
       "      <td>6.714000e+04</td>\n",
       "    </tr>\n",
       "    <tr>\n",
       "      <th>mean</th>\n",
       "      <td>2575.88</td>\n",
       "      <td>5157.01</td>\n",
       "      <td>38971.24</td>\n",
       "      <td>13608.6</td>\n",
       "      <td>23738.68</td>\n",
       "      <td>0.00</td>\n",
       "      <td>17551.78</td>\n",
       "      <td>0.05</td>\n",
       "      <td>295.54</td>\n",
       "      <td>0.26</td>\n",
       "      <td>...</td>\n",
       "      <td>0.00</td>\n",
       "      <td>0.01</td>\n",
       "      <td>0.09</td>\n",
       "      <td>0.20</td>\n",
       "      <td>2.06</td>\n",
       "      <td>0.65</td>\n",
       "      <td>1.20</td>\n",
       "      <td>15778.99</td>\n",
       "      <td>9.103277e+07</td>\n",
       "      <td>3.021171e+07</td>\n",
       "    </tr>\n",
       "    <tr>\n",
       "      <th>std</th>\n",
       "      <td>6621.67</td>\n",
       "      <td>12468.08</td>\n",
       "      <td>86685.22</td>\n",
       "      <td>29922.4</td>\n",
       "      <td>51952.53</td>\n",
       "      <td>0.04</td>\n",
       "      <td>12166.55</td>\n",
       "      <td>0.02</td>\n",
       "      <td>347.16</td>\n",
       "      <td>0.44</td>\n",
       "      <td>...</td>\n",
       "      <td>0.05</td>\n",
       "      <td>0.09</td>\n",
       "      <td>0.35</td>\n",
       "      <td>1.03</td>\n",
       "      <td>6.78</td>\n",
       "      <td>2.79</td>\n",
       "      <td>4.09</td>\n",
       "      <td>35203.21</td>\n",
       "      <td>3.487878e+08</td>\n",
       "      <td>2.234353e+08</td>\n",
       "    </tr>\n",
       "    <tr>\n",
       "      <th>min</th>\n",
       "      <td>0.00</td>\n",
       "      <td>0.00</td>\n",
       "      <td>0.00</td>\n",
       "      <td>0.0</td>\n",
       "      <td>0.00</td>\n",
       "      <td>0.00</td>\n",
       "      <td>5897.00</td>\n",
       "      <td>0.00</td>\n",
       "      <td>-1.00</td>\n",
       "      <td>0.00</td>\n",
       "      <td>...</td>\n",
       "      <td>0.00</td>\n",
       "      <td>0.00</td>\n",
       "      <td>-28.16</td>\n",
       "      <td>-43.18</td>\n",
       "      <td>-218.52</td>\n",
       "      <td>-86.65</td>\n",
       "      <td>-152.49</td>\n",
       "      <td>0.00</td>\n",
       "      <td>0.000000e+00</td>\n",
       "      <td>0.000000e+00</td>\n",
       "    </tr>\n",
       "    <tr>\n",
       "      <th>25%</th>\n",
       "      <td>0.00</td>\n",
       "      <td>0.00</td>\n",
       "      <td>0.00</td>\n",
       "      <td>0.0</td>\n",
       "      <td>0.00</td>\n",
       "      <td>0.00</td>\n",
       "      <td>12223.48</td>\n",
       "      <td>0.04</td>\n",
       "      <td>-1.00</td>\n",
       "      <td>0.00</td>\n",
       "      <td>...</td>\n",
       "      <td>0.00</td>\n",
       "      <td>0.00</td>\n",
       "      <td>0.00</td>\n",
       "      <td>0.00</td>\n",
       "      <td>0.00</td>\n",
       "      <td>0.00</td>\n",
       "      <td>0.00</td>\n",
       "      <td>0.00</td>\n",
       "      <td>0.000000e+00</td>\n",
       "      <td>0.000000e+00</td>\n",
       "    </tr>\n",
       "    <tr>\n",
       "      <th>50%</th>\n",
       "      <td>0.00</td>\n",
       "      <td>0.00</td>\n",
       "      <td>8481.50</td>\n",
       "      <td>0.0</td>\n",
       "      <td>3762.50</td>\n",
       "      <td>0.00</td>\n",
       "      <td>12223.48</td>\n",
       "      <td>0.05</td>\n",
       "      <td>137.00</td>\n",
       "      <td>0.00</td>\n",
       "      <td>...</td>\n",
       "      <td>0.00</td>\n",
       "      <td>0.00</td>\n",
       "      <td>0.00</td>\n",
       "      <td>0.00</td>\n",
       "      <td>0.41</td>\n",
       "      <td>0.00</td>\n",
       "      <td>0.15</td>\n",
       "      <td>3103.22</td>\n",
       "      <td>0.000000e+00</td>\n",
       "      <td>0.000000e+00</td>\n",
       "    </tr>\n",
       "    <tr>\n",
       "      <th>75%</th>\n",
       "      <td>2479.50</td>\n",
       "      <td>5406.00</td>\n",
       "      <td>43295.25</td>\n",
       "      <td>15001.0</td>\n",
       "      <td>26495.00</td>\n",
       "      <td>0.00</td>\n",
       "      <td>15743.14</td>\n",
       "      <td>0.07</td>\n",
       "      <td>549.00</td>\n",
       "      <td>1.00</td>\n",
       "      <td>...</td>\n",
       "      <td>0.00</td>\n",
       "      <td>0.00</td>\n",
       "      <td>0.12</td>\n",
       "      <td>0.25</td>\n",
       "      <td>2.26</td>\n",
       "      <td>0.73</td>\n",
       "      <td>1.35</td>\n",
       "      <td>17827.81</td>\n",
       "      <td>4.100000e-01</td>\n",
       "      <td>1.884980e+03</td>\n",
       "    </tr>\n",
       "    <tr>\n",
       "      <th>max</th>\n",
       "      <td>214994.00</td>\n",
       "      <td>442293.00</td>\n",
       "      <td>6985861.00</td>\n",
       "      <td>736536.0</td>\n",
       "      <td>3582917.00</td>\n",
       "      <td>1.00</td>\n",
       "      <td>60242.13</td>\n",
       "      <td>0.30</td>\n",
       "      <td>1095.00</td>\n",
       "      <td>1.00</td>\n",
       "      <td>...</td>\n",
       "      <td>3.00</td>\n",
       "      <td>4.00</td>\n",
       "      <td>57.11</td>\n",
       "      <td>228.43</td>\n",
       "      <td>1100.25</td>\n",
       "      <td>422.39</td>\n",
       "      <td>616.30</td>\n",
       "      <td>3046506.26</td>\n",
       "      <td>1.179710e+10</td>\n",
       "      <td>1.266480e+10</td>\n",
       "    </tr>\n",
       "  </tbody>\n",
       "</table>\n",
       "<p>8 rows × 38 columns</p>\n",
       "</div>"
      ],
      "text/plain": [
       "       amount_repaid_14d  amount_repaid_1m  amount_repaid_1y  \\\n",
       "count           67140.00          67140.00          67140.00   \n",
       "mean             2575.88           5157.01          38971.24   \n",
       "std              6621.67          12468.08          86685.22   \n",
       "min                 0.00              0.00              0.00   \n",
       "25%                 0.00              0.00              0.00   \n",
       "50%                 0.00              0.00           8481.50   \n",
       "75%              2479.50           5406.00          43295.25   \n",
       "max            214994.00         442293.00        6985861.00   \n",
       "\n",
       "       amount_repaid_3m  amount_repaid_6m  card_expiry_missing  \\\n",
       "count           67140.0          67140.00             67140.00   \n",
       "mean            13608.6          23738.68                 0.00   \n",
       "std             29922.4          51952.53                 0.04   \n",
       "min                 0.0              0.00                 0.00   \n",
       "25%                 0.0              0.00                 0.00   \n",
       "50%                 0.0           3762.50                 0.00   \n",
       "75%             15001.0          26495.00                 0.00   \n",
       "max            736536.0        3582917.00                 1.00   \n",
       "\n",
       "       category_avg_loan  category_default_rate  days_since_first_loan  \\\n",
       "count           67140.00               67140.00               67140.00   \n",
       "mean            17551.78                   0.05                 295.54   \n",
       "std             12166.55                   0.02                 347.16   \n",
       "min              5897.00                   0.00                  -1.00   \n",
       "25%             12223.48                   0.04                  -1.00   \n",
       "50%             12223.48                   0.05                 137.00   \n",
       "75%             15743.14                   0.07                 549.00   \n",
       "max             60242.13                   0.30                1095.00   \n",
       "\n",
       "       existing_debt_missing  ...  num_failed_to_conf_payments_3m  \\\n",
       "count               67140.00  ...                        67140.00   \n",
       "mean                    0.26  ...                            0.00   \n",
       "std                     0.44  ...                            0.05   \n",
       "min                     0.00  ...                            0.00   \n",
       "25%                     0.00  ...                            0.00   \n",
       "50%                     0.00  ...                            0.00   \n",
       "75%                     1.00  ...                            0.00   \n",
       "max                     1.00  ...                            3.00   \n",
       "\n",
       "       num_failed_to_conf_payments_6m  repayment_14d_to_debt  \\\n",
       "count                        67140.00               67140.00   \n",
       "mean                             0.01                   0.09   \n",
       "std                              0.09                   0.35   \n",
       "min                              0.00                 -28.16   \n",
       "25%                              0.00                   0.00   \n",
       "50%                              0.00                   0.00   \n",
       "75%                              0.00                   0.12   \n",
       "max                              4.00                  57.11   \n",
       "\n",
       "       repayment_1m_to_debt  repayment_1y_to_debt  repayment_3m_to_debt  \\\n",
       "count              67140.00              67140.00              67140.00   \n",
       "mean                   0.20                  2.06                  0.65   \n",
       "std                    1.03                  6.78                  2.79   \n",
       "min                  -43.18               -218.52                -86.65   \n",
       "25%                    0.00                  0.00                  0.00   \n",
       "50%                    0.00                  0.41                  0.00   \n",
       "75%                    0.25                  2.26                  0.73   \n",
       "max                  228.43               1100.25                422.39   \n",
       "\n",
       "       repayment_6m_to_debt  repayment_consistency  repayment_rate_to_new_14d  \\\n",
       "count              67140.00               67140.00               6.714000e+04   \n",
       "mean                   1.20               15778.99               9.103277e+07   \n",
       "std                    4.09               35203.21               3.487878e+08   \n",
       "min                 -152.49                   0.00               0.000000e+00   \n",
       "25%                    0.00                   0.00               0.000000e+00   \n",
       "50%                    0.15                3103.22               0.000000e+00   \n",
       "75%                    1.35               17827.81               4.100000e-01   \n",
       "max                  616.30             3046506.26               1.179710e+10   \n",
       "\n",
       "       repayment_rate_to_num  \n",
       "count           6.714000e+04  \n",
       "mean            3.021171e+07  \n",
       "std             2.234353e+08  \n",
       "min             0.000000e+00  \n",
       "25%             0.000000e+00  \n",
       "50%             0.000000e+00  \n",
       "75%             1.884980e+03  \n",
       "max             1.266480e+10  \n",
       "\n",
       "[8 rows x 38 columns]"
      ]
     },
     "execution_count": 446,
     "metadata": {},
     "output_type": "execute_result"
    }
   ],
   "source": [
    "df_train[numerical_features_eda].describe().round(2)"
   ]
  },
  {
   "cell_type": "markdown",
   "metadata": {},
   "source": [
    "Loan amount"
   ]
  },
  {
   "cell_type": "code",
   "execution_count": 447,
   "metadata": {},
   "outputs": [
    {
     "data": {
      "text/plain": [
       "<Axes: >"
      ]
     },
     "execution_count": 447,
     "metadata": {},
     "output_type": "execute_result"
    },
    {
     "data": {
      "image/png": "[encoded data removed]",
      "text/plain": [
       "<Figure size 400x300 with 1 Axes>"
      ]
     },
     "metadata": {},
     "output_type": "display_data"
    }
   ],
   "source": [
    "df_train.loan_amount.hist(bins=50, figsize=(4, 3))"
   ]
  },
  {
   "cell_type": "code",
   "execution_count": 449,
   "metadata": {},
   "outputs": [
    {
     "data": {
      "image/png": "[encoded data removed]",
      "text/plain": [
       "<Figure size 400x300 with 1 Axes>"
      ]
     },
     "metadata": {},
     "output_type": "display_data"
    }
   ],
   "source": [
    "df_train['log_loan_amount'] = np.log1p(df_train['loan_amount'])\n",
    "\n",
    "df_train.boxplot(column='log_loan_amount', by='default', figsize=(4, 3))\n",
    "plt.title('Average Log Loan Amount by Loan Status')\n",
    "plt.suptitle('') \n",
    "plt.show()\n",
    "\n",
    "del df_train['log_loan_amount']\n"
   ]
  },
  {
   "cell_type": "code",
   "execution_count": 459,
   "metadata": {},
   "outputs": [
    {
     "data": {
      "text/plain": [
       "<Axes: >"
      ]
     },
     "execution_count": 459,
     "metadata": {},
     "output_type": "execute_result"
    },
    {
     "data": {
      "image/png": "[encoded data removed]",
      "text/plain": [
       "<Figure size 400x300 with 1 Axes>"
      ]
     },
     "metadata": {},
     "output_type": "display_data"
    }
   ],
   "source": [
    "df_train.loan_to_debt_ratio.hist(bins=50, figsize=(4, 3))"
   ]
  },
  {
   "cell_type": "code",
   "execution_count": 460,
   "metadata": {},
   "outputs": [
    {
     "data": {
      "text/plain": [
       "count    67140.000000\n",
       "mean         0.765344\n",
       "std          1.158113\n",
       "min        -17.864301\n",
       "25%          0.394090\n",
       "50%          1.000000\n",
       "75%          1.000000\n",
       "max        287.272727\n",
       "Name: loan_to_debt_ratio, dtype: float64"
      ]
     },
     "execution_count": 460,
     "metadata": {},
     "output_type": "execute_result"
    }
   ],
   "source": [
    "df_train.loan_to_debt_ratio.describe()"
   ]
  },
  {
   "cell_type": "code",
   "execution_count": 464,
   "metadata": {},
   "outputs": [
    {
     "data": {
      "text/plain": [
       "<Axes: >"
      ]
     },
     "execution_count": 464,
     "metadata": {},
     "output_type": "execute_result"
    },
    {
     "data": {
      "image/png": "[encoded data removed]",
      "text/plain": [
       "<Figure size 400x300 with 1 Axes>"
      ]
     },
     "metadata": {},
     "output_type": "display_data"
    }
   ],
   "source": [
    "df_train.loan_to_debt_ratio[df_train.loan_to_debt_ratio < 0].hist(bins=50, figsize=(4, 3))"
   ]
  },
  {
   "cell_type": "code",
   "execution_count": 463,
   "metadata": {},
   "outputs": [
    {
     "data": {
      "text/plain": [
       "<Axes: >"
      ]
     },
     "execution_count": 463,
     "metadata": {},
     "output_type": "execute_result"
    },
    {
     "data": {
      "image/png": "[encoded data removed]",
      "text/plain": [
       "<Figure size 400x300 with 1 Axes>"
      ]
     },
     "metadata": {},
     "output_type": "display_data"
    }
   ],
   "source": [
    "df_train.loan_to_debt_ratio[abs(df_train.loan_to_debt_ratio) < 1].hist(bins=50, figsize=(4, 3))"
   ]
  },
  {
   "cell_type": "code",
   "execution_count": 473,
   "metadata": {},
   "outputs": [
    {
     "data": {
      "text/plain": [
       "np.int64(7)"
      ]
     },
     "execution_count": 473,
     "metadata": {},
     "output_type": "execute_result"
    }
   ],
   "source": [
    "df_train.loan_to_debt_ratio[df_train.loan_to_debt_ratio > 2].count()"
   ]
  },
  {
   "cell_type": "code",
   "execution_count": 481,
   "metadata": {},
   "outputs": [
    {
     "data": {
      "text/html": [
       "<div>\n",
       "<style scoped>\n",
       "    .dataframe tbody tr th:only-of-type {\n",
       "        vertical-align: middle;\n",
       "    }\n",
       "\n",
       "    .dataframe tbody tr th {\n",
       "        vertical-align: top;\n",
       "    }\n",
       "\n",
       "    .dataframe thead th {\n",
       "        text-align: right;\n",
       "    }\n",
       "</style>\n",
       "<table border=\"1\" class=\"dataframe\">\n",
       "  <thead>\n",
       "    <tr style=\"text-align: right;\">\n",
       "      <th></th>\n",
       "      <th>2429</th>\n",
       "      <th>6810</th>\n",
       "      <th>12195</th>\n",
       "      <th>12497</th>\n",
       "      <th>19797</th>\n",
       "      <th>48170</th>\n",
       "      <th>65196</th>\n",
       "    </tr>\n",
       "  </thead>\n",
       "  <tbody>\n",
       "    <tr>\n",
       "      <th>loan_to_debt_ratio</th>\n",
       "      <td>6.83</td>\n",
       "      <td>2.48</td>\n",
       "      <td>287.27</td>\n",
       "      <td>2.6</td>\n",
       "      <td>2.27</td>\n",
       "      <td>2.67</td>\n",
       "      <td>2.32</td>\n",
       "    </tr>\n",
       "    <tr>\n",
       "      <th>loan_amount</th>\n",
       "      <td>48300.00</td>\n",
       "      <td>25011.00</td>\n",
       "      <td>12640.00</td>\n",
       "      <td>2951.0</td>\n",
       "      <td>5285.00</td>\n",
       "      <td>7622.00</td>\n",
       "      <td>2552.00</td>\n",
       "    </tr>\n",
       "    <tr>\n",
       "      <th>existing_klarna_debt</th>\n",
       "      <td>-41232.00</td>\n",
       "      <td>-14924.00</td>\n",
       "      <td>-12596.00</td>\n",
       "      <td>-1816.0</td>\n",
       "      <td>-2952.00</td>\n",
       "      <td>-4762.00</td>\n",
       "      <td>-1452.00</td>\n",
       "    </tr>\n",
       "    <tr>\n",
       "      <th>default</th>\n",
       "      <td>0.00</td>\n",
       "      <td>0.00</td>\n",
       "      <td>0.00</td>\n",
       "      <td>0.0</td>\n",
       "      <td>0.00</td>\n",
       "      <td>1.00</td>\n",
       "      <td>1.00</td>\n",
       "    </tr>\n",
       "  </tbody>\n",
       "</table>\n",
       "</div>"
      ],
      "text/plain": [
       "                         2429      6810      12195   12497    19797    48170  \\\n",
       "loan_to_debt_ratio        6.83      2.48    287.27     2.6     2.27     2.67   \n",
       "loan_amount           48300.00  25011.00  12640.00  2951.0  5285.00  7622.00   \n",
       "existing_klarna_debt -41232.00 -14924.00 -12596.00 -1816.0 -2952.00 -4762.00   \n",
       "default                   0.00      0.00      0.00     0.0     0.00     1.00   \n",
       "\n",
       "                        65196  \n",
       "loan_to_debt_ratio       2.32  \n",
       "loan_amount           2552.00  \n",
       "existing_klarna_debt -1452.00  \n",
       "default                  1.00  "
      ]
     },
     "execution_count": 481,
     "metadata": {},
     "output_type": "execute_result"
    }
   ],
   "source": [
    "df_train[['loan_to_debt_ratio', 'loan_amount', 'existing_klarna_debt', 'default']][df_train.loan_to_debt_ratio > 2].T.round(2)"
   ]
  },
  {
   "cell_type": "code",
   "execution_count": 489,
   "metadata": {},
   "outputs": [
    {
     "name": "stdout",
     "output_type": "stream",
     "text": [
      "Value counts for Loan-to-Debt Ratio bins:\n",
      "loan_to_debt_ratio_binned\n",
      "Medium    44967\n",
      "Low       22156\n",
      "High         17\n",
      "Name: count, dtype: int64\n"
     ]
    },
    {
     "data": {
      "image/png": "[encoded data removed]",
      "text/plain": [
       "<Figure size 640x480 with 1 Axes>"
      ]
     },
     "metadata": {},
     "output_type": "display_data"
    }
   ],
   "source": [
    "# Calculate custom percentiles\n",
    "percentiles = np.percentile(df_train['loan_to_debt_ratio'], [0, 33, 66, 100])\n",
    "\n",
    "# Perform binning based on these percentiles\n",
    "df_train['loan_to_debt_ratio_binned'] = pd.cut(\n",
    "    df_train['loan_to_debt_ratio'], \n",
    "    bins=percentiles, \n",
    "    labels=['Low', 'Medium', 'High'], \n",
    "    include_lowest=True\n",
    ")\n",
    "\n",
    "# Check the bin counts\n",
    "print(\"Value counts for Loan-to-Debt Ratio bins:\")\n",
    "print(df_train['loan_to_debt_ratio_binned'].value_counts())\n",
    "\n",
    "# Plot the default rate by bins\n",
    "default_rate = df_train.groupby('loan_to_debt_ratio_binned', observed=True)['default'].mean()\n",
    "default_rate.plot(kind='bar', color='#FFA8CD')\n",
    "plt.title('Default Rate by Loan-to-Debt Ratio Bins')\n",
    "plt.ylabel('Default Rate')\n",
    "plt.xlabel('Loan-to-Debt Ratio Bins')\n",
    "plt.show()\n"
   ]
  },
  {
   "cell_type": "markdown",
   "metadata": {},
   "source": [
    "Explore card expiration"
   ]
  },
  {
   "cell_type": "code",
   "execution_count": 499,
   "metadata": {},
   "outputs": [
    {
     "data": {
      "text/plain": [
       "<Axes: >"
      ]
     },
     "execution_count": 499,
     "metadata": {},
     "output_type": "execute_result"
    },
    {
     "data": {
      "image/png": "[encoded data removed]",
      "text/plain": [
       "<Figure size 400x300 with 1 Axes>"
      ]
     },
     "metadata": {},
     "output_type": "display_data"
    }
   ],
   "source": [
    "df_train.months_to_card_expiration.hist(bins=50, figsize=(4, 3))"
   ]
  },
  {
   "cell_type": "code",
   "execution_count": 500,
   "metadata": {},
   "outputs": [
    {
     "data": {
      "image/png": "[encoded data removed]",
      "text/plain": [
       "<Figure size 400x300 with 1 Axes>"
      ]
     },
     "metadata": {},
     "output_type": "display_data"
    }
   ],
   "source": [
    "# Boxplot\n",
    "df_train.boxplot(column='months_to_card_expiration', by='default', figsize=(4, 3))\n",
    "plt.title('Months to Card Expiration by Loan Status')\n",
    "plt.suptitle('')\n",
    "plt.show()"
   ]
  },
  {
   "cell_type": "markdown",
   "metadata": {},
   "source": [
    "Existing debt"
   ]
  },
  {
   "cell_type": "code",
   "execution_count": 501,
   "metadata": {},
   "outputs": [
    {
     "data": {
      "text/plain": [
       "existing_debt_missing\n",
       "0    49656\n",
       "1    17484\n",
       "Name: count, dtype: int64"
      ]
     },
     "execution_count": 501,
     "metadata": {},
     "output_type": "execute_result"
    }
   ],
   "source": [
    "df_train.existing_debt_missing.value_counts()"
   ]
  },
  {
   "cell_type": "code",
   "execution_count": 512,
   "metadata": {},
   "outputs": [
    {
     "data": {
      "image/png": "[encoded data removed]",
      "text/plain": [
       "<Figure size 800x400 with 2 Axes>"
      ]
     },
     "metadata": {},
     "output_type": "display_data"
    }
   ],
   "source": [
    "import matplotlib.pyplot as plt\n",
    "\n",
    "# Calculate the counts for each group\n",
    "counts = df_train.groupby(['existing_debt_missing', 'default']).size().unstack()\n",
    "\n",
    "# Calculate proportions\n",
    "proportions = df_train.groupby('existing_debt_missing')['default'].mean()\n",
    "\n",
    "# Create a figure with two smaller subplots\n",
    "fig, axes = plt.subplots(1, 2, figsize=(8, 4), sharey=False)\n",
    "\n",
    "# Plot the grouped bar chart\n",
    "counts.plot(kind='bar', color=['#FFA8CD', '#0B051D'], width=0.8, ax=axes[0])\n",
    "axes[0].set_title('Default Distribution by Missing Debt')\n",
    "axes[0].set_xlabel('Existing Debt Missing (0 = No, 1 = Yes)')\n",
    "axes[0].set_ylabel('Count')\n",
    "axes[0].legend(title='Default', labels=['No Default', 'Default'])\n",
    "axes[0].tick_params(axis='x', rotation=0)\n",
    "\n",
    "# Plot the proportion chart\n",
    "proportions.plot(kind='bar', color='#FFA8CD', width=0.8, ax=axes[1])\n",
    "axes[1].set_title('Proportion of Defaults by Missing Debt')\n",
    "axes[1].set_xlabel('Existing Debt Missing (0 = No, 1 = Yes)')\n",
    "axes[1].set_ylabel('Proportion of Defaults')\n",
    "axes[1].tick_params(axis='x', rotation=0)\n",
    "\n",
    "# Adjust layout\n",
    "plt.tight_layout()\n",
    "plt.show()\n"
   ]
  },
  {
   "cell_type": "code",
   "execution_count": 504,
   "metadata": {},
   "outputs": [
    {
     "data": {
      "text/plain": [
       "<Axes: >"
      ]
     },
     "execution_count": 504,
     "metadata": {},
     "output_type": "execute_result"
    },
    {
     "data": {
      "image/png": "[encoded data removed]",
      "text/plain": [
       "<Figure size 400x300 with 1 Axes>"
      ]
     },
     "metadata": {},
     "output_type": "display_data"
    }
   ],
   "source": [
    "df_train.existing_klarna_debt[df_train.existing_debt_missing == False].hist(bins=50, figsize=(4, 3))"
   ]
  },
  {
   "cell_type": "markdown",
   "metadata": {},
   "source": [
    "Explore num_active_loans"
   ]
  },
  {
   "cell_type": "markdown",
   "metadata": {},
   "source": [
    "Explore days_since_first_loan"
   ]
  },
  {
   "cell_type": "markdown",
   "metadata": {},
   "source": [
    "Explore new_exposure"
   ]
  },
  {
   "cell_type": "code",
   "execution_count": null,
   "metadata": {},
   "outputs": [],
   "source": []
  },
  {
   "cell_type": "markdown",
   "metadata": {},
   "source": [
    "Explore number of payments"
   ]
  },
  {
   "cell_type": "markdown",
   "metadata": {},
   "source": [
    "Explore amount_repaid variables"
   ]
  },
  {
   "cell_type": "code",
   "execution_count": 490,
   "metadata": {},
   "outputs": [
    {
     "data": {
      "text/plain": [
       "['amount_repaid_14d',\n",
       " 'amount_repaid_1m',\n",
       " 'amount_repaid_3m',\n",
       " 'amount_repaid_6m',\n",
       " 'amount_repaid_1y']"
      ]
     },
     "execution_count": 490,
     "metadata": {},
     "output_type": "execute_result"
    }
   ],
   "source": [
    "amounts_repaid = [col for col in df_train.columns if 'amount_repaid' in col]\n",
    "amounts_repaid"
   ]
  },
  {
   "cell_type": "code",
   "execution_count": 491,
   "metadata": {},
   "outputs": [
    {
     "data": {
      "text/html": [
       "<div>\n",
       "<style scoped>\n",
       "    .dataframe tbody tr th:only-of-type {\n",
       "        vertical-align: middle;\n",
       "    }\n",
       "\n",
       "    .dataframe tbody tr th {\n",
       "        vertical-align: top;\n",
       "    }\n",
       "\n",
       "    .dataframe thead th {\n",
       "        text-align: right;\n",
       "    }\n",
       "</style>\n",
       "<table border=\"1\" class=\"dataframe\">\n",
       "  <thead>\n",
       "    <tr style=\"text-align: right;\">\n",
       "      <th></th>\n",
       "      <th>amount_repaid_14d</th>\n",
       "      <th>amount_repaid_1m</th>\n",
       "      <th>amount_repaid_3m</th>\n",
       "      <th>amount_repaid_6m</th>\n",
       "      <th>amount_repaid_1y</th>\n",
       "    </tr>\n",
       "  </thead>\n",
       "  <tbody>\n",
       "    <tr>\n",
       "      <th>count</th>\n",
       "      <td>67140.00</td>\n",
       "      <td>67140.00</td>\n",
       "      <td>67140.0</td>\n",
       "      <td>67140.00</td>\n",
       "      <td>67140.00</td>\n",
       "    </tr>\n",
       "    <tr>\n",
       "      <th>mean</th>\n",
       "      <td>2575.88</td>\n",
       "      <td>5157.01</td>\n",
       "      <td>13608.6</td>\n",
       "      <td>23738.68</td>\n",
       "      <td>38971.24</td>\n",
       "    </tr>\n",
       "    <tr>\n",
       "      <th>std</th>\n",
       "      <td>6621.67</td>\n",
       "      <td>12468.08</td>\n",
       "      <td>29922.4</td>\n",
       "      <td>51952.53</td>\n",
       "      <td>86685.22</td>\n",
       "    </tr>\n",
       "    <tr>\n",
       "      <th>min</th>\n",
       "      <td>0.00</td>\n",
       "      <td>0.00</td>\n",
       "      <td>0.0</td>\n",
       "      <td>0.00</td>\n",
       "      <td>0.00</td>\n",
       "    </tr>\n",
       "    <tr>\n",
       "      <th>25%</th>\n",
       "      <td>0.00</td>\n",
       "      <td>0.00</td>\n",
       "      <td>0.0</td>\n",
       "      <td>0.00</td>\n",
       "      <td>0.00</td>\n",
       "    </tr>\n",
       "    <tr>\n",
       "      <th>50%</th>\n",
       "      <td>0.00</td>\n",
       "      <td>0.00</td>\n",
       "      <td>0.0</td>\n",
       "      <td>3762.50</td>\n",
       "      <td>8481.50</td>\n",
       "    </tr>\n",
       "    <tr>\n",
       "      <th>75%</th>\n",
       "      <td>2479.50</td>\n",
       "      <td>5406.00</td>\n",
       "      <td>15001.0</td>\n",
       "      <td>26495.00</td>\n",
       "      <td>43295.25</td>\n",
       "    </tr>\n",
       "    <tr>\n",
       "      <th>max</th>\n",
       "      <td>214994.00</td>\n",
       "      <td>442293.00</td>\n",
       "      <td>736536.0</td>\n",
       "      <td>3582917.00</td>\n",
       "      <td>6985861.00</td>\n",
       "    </tr>\n",
       "  </tbody>\n",
       "</table>\n",
       "</div>"
      ],
      "text/plain": [
       "       amount_repaid_14d  amount_repaid_1m  amount_repaid_3m  \\\n",
       "count           67140.00          67140.00           67140.0   \n",
       "mean             2575.88           5157.01           13608.6   \n",
       "std              6621.67          12468.08           29922.4   \n",
       "min                 0.00              0.00               0.0   \n",
       "25%                 0.00              0.00               0.0   \n",
       "50%                 0.00              0.00               0.0   \n",
       "75%              2479.50           5406.00           15001.0   \n",
       "max            214994.00         442293.00          736536.0   \n",
       "\n",
       "       amount_repaid_6m  amount_repaid_1y  \n",
       "count          67140.00          67140.00  \n",
       "mean           23738.68          38971.24  \n",
       "std            51952.53          86685.22  \n",
       "min                0.00              0.00  \n",
       "25%                0.00              0.00  \n",
       "50%             3762.50           8481.50  \n",
       "75%            26495.00          43295.25  \n",
       "max          3582917.00        6985861.00  "
      ]
     },
     "execution_count": 491,
     "metadata": {},
     "output_type": "execute_result"
    }
   ],
   "source": [
    "df_train[amounts_repaid].describe().round(2)"
   ]
  },
  {
   "cell_type": "code",
   "execution_count": 492,
   "metadata": {},
   "outputs": [
    {
     "data": {
      "text/plain": [
       "amount_repaid_14d    43784\n",
       "amount_repaid_1m     40347\n",
       "amount_repaid_3m     34503\n",
       "amount_repaid_6m     30679\n",
       "amount_repaid_1y     27339\n",
       "dtype: int64"
      ]
     },
     "execution_count": 492,
     "metadata": {},
     "output_type": "execute_result"
    }
   ],
   "source": [
    "# how many zeros in each column?\n",
    "df_train[amounts_repaid].apply(lambda x: (x == 0).sum())"
   ]
  },
  {
   "cell_type": "code",
   "execution_count": 495,
   "metadata": {},
   "outputs": [
    {
     "data": {
      "text/plain": [
       "['repayment_1y_to_debt',\n",
       " 'repayment_6m_to_debt',\n",
       " 'repayment_3m_to_debt',\n",
       " 'repayment_1m_to_debt',\n",
       " 'repayment_14d_to_debt',\n",
       " 'repayment_consistency',\n",
       " 'repayment_rate_to_new_14d',\n",
       " 'repayment_rate_to_num']"
      ]
     },
     "execution_count": 495,
     "metadata": {},
     "output_type": "execute_result"
    }
   ],
   "source": [
    "repaiment_ratios = [col for col in df_train.columns if 'repay' in col]\n",
    "repaiment_ratios"
   ]
  },
  {
   "cell_type": "code",
   "execution_count": 498,
   "metadata": {},
   "outputs": [
    {
     "name": "stdout",
     "output_type": "stream",
     "text": [
      "Value counts for repayment_1y_to_debt bins:\n",
      "repayment_1y_to_debt_binned\n",
      "Low       27351\n",
      "High      22828\n",
      "Medium    16961\n",
      "Name: count, dtype: int64\n"
     ]
    },
    {
     "data": {
      "image/png": "[encoded data removed]",
      "text/plain": [
       "<Figure size 640x480 with 1 Axes>"
      ]
     },
     "metadata": {},
     "output_type": "display_data"
    }
   ],
   "source": [
    "# Calculate custom percentiles\n",
    "percentiles = np.percentile(df_train['repayment_1y_to_debt'], [0, 33, 66, 100])\n",
    "\n",
    "# Perform binning based on these percentiles\n",
    "df_train['repayment_1y_to_debt_binned'] = pd.cut(\n",
    "    df_train['repayment_1y_to_debt'], \n",
    "    bins=percentiles, \n",
    "    labels=['Low', 'Medium', 'High'], \n",
    "    include_lowest=True\n",
    ")\n",
    "\n",
    "# Check the bin counts\n",
    "print(\"Value counts for repayment_1y_to_debt bins:\")\n",
    "print(df_train['repayment_1y_to_debt_binned'].value_counts())\n",
    "\n",
    "# Plot the default rate by bins\n",
    "default_rate = df_train.groupby('repayment_1y_to_debt_binned', observed=True)['default'].mean()\n",
    "default_rate.plot(kind='bar', color='#FFA8CD')\n",
    "plt.title('Default Rate by repayment_1y_to_debt Bins')\n",
    "plt.ylabel('Default Rate')\n",
    "plt.xlabel('repayment_1y_to_debt Bins')\n",
    "plt.show()\n"
   ]
  },
  {
   "cell_type": "code",
   "execution_count": 493,
   "metadata": {},
   "outputs": [
    {
     "data": {
      "text/plain": [
       "count     67140.000000\n",
       "mean      11763.929178\n",
       "std       29375.611077\n",
       "min     -220618.000000\n",
       "25%           0.000000\n",
       "50%           0.000000\n",
       "75%       11632.000000\n",
       "max      817852.000000\n",
       "Name: existing_klarna_debt, dtype: float64"
      ]
     },
     "execution_count": 493,
     "metadata": {},
     "output_type": "execute_result"
    }
   ],
   "source": [
    "# Existing Klarna Debt\n",
    "df_train.existing_klarna_debt.describe()"
   ]
  },
  {
   "cell_type": "code",
   "execution_count": null,
   "metadata": {},
   "outputs": [],
   "source": [
    "df_train[df_train.existing_klarna_debt<0].sample(5)"
   ]
  },
  {
   "cell_type": "code",
   "execution_count": null,
   "metadata": {},
   "outputs": [],
   "source": [
    "# Existing Klarna Debt\n",
    "df_train.boxplot(column = ['existing_klarna_debt'], by = 'default')\n",
    "plt.title('Average existing_klarna_debt by Loan Status')\n",
    "plt.suptitle('')\n",
    "plt.show()"
   ]
  },
  {
   "cell_type": "code",
   "execution_count": null,
   "metadata": {},
   "outputs": [],
   "source": [
    "# Number active loans\n",
    "#df_train.num_active_loans.hist(bins=20, figsize=(4, 3))\n",
    "\n",
    "df_train.num_active_loans.value_counts()"
   ]
  },
  {
   "cell_type": "code",
   "execution_count": null,
   "metadata": {},
   "outputs": [],
   "source": [
    "# Days since first loan\n",
    "df_train.days_since_first_loan.value_counts()"
   ]
  },
  {
   "cell_type": "code",
   "execution_count": null,
   "metadata": {},
   "outputs": [],
   "source": [
    "# new_exposure_7d\n",
    "df_train.boxplot(column = ['new_exposure_7d'], by = 'default')\n",
    "plt.title('Average new_exposure_7d by Loan Status')\n",
    "plt.suptitle('')\n",
    "plt.show()"
   ]
  },
  {
   "cell_type": "code",
   "execution_count": null,
   "metadata": {},
   "outputs": [],
   "source": [
    "# new_exposure_7d\n",
    "df_train.boxplot(column = ['new_exposure_14d'], by = 'default')\n",
    "plt.title('Average new_exposure_14d by Loan Status')\n",
    "plt.suptitle('')\n",
    "plt.show()"
   ]
  },
  {
   "cell_type": "markdown",
   "metadata": {},
   "source": [
    "Explore number of payments"
   ]
  },
  {
   "cell_type": "code",
   "execution_count": null,
   "metadata": {},
   "outputs": [],
   "source": [
    "df_train.num_failed_payments_3m.value_counts()"
   ]
  },
  {
   "cell_type": "code",
   "execution_count": null,
   "metadata": {},
   "outputs": [],
   "source": [
    "df_train.num_confirmed_payments_6m.value_counts()"
   ]
  },
  {
   "cell_type": "code",
   "execution_count": null,
   "metadata": {},
   "outputs": [],
   "source": [
    "df_train['failed_to_confirmed_ratio_6m'] = df_train['num_failed_payments_6m']/ (df_train['num_confirmed_payments_6m'] + 0.00001)\n"
   ]
  },
  {
   "cell_type": "code",
   "execution_count": null,
   "metadata": {},
   "outputs": [],
   "source": [
    "df_train['failed_to_confirmed_ratio_6m'].describe()"
   ]
  },
  {
   "cell_type": "code",
   "execution_count": null,
   "metadata": {},
   "outputs": [],
   "source": [
    "df_train.num_active_loans.value_counts()"
   ]
  },
  {
   "cell_type": "code",
   "execution_count": 74,
   "metadata": {},
   "outputs": [],
   "source": [
    "df_train['failed_to_confirmed_ratio_6m'] = df_train['num_failed_payments_6m']/ (df_train['num_active_loans'] + 0.00001) \n"
   ]
  },
  {
   "cell_type": "markdown",
   "metadata": {},
   "source": [
    "Explore repayments"
   ]
  },
  {
   "cell_type": "code",
   "execution_count": 79,
   "metadata": {},
   "outputs": [],
   "source": [
    "    # Repayment acceleration\n",
    "df_train['repayment_acceleration'] = df_train['amount_repaid_14d'] - df_train['amount_repaid_1y']\n",
    "\n",
    "    # Repayment consistency\n",
    "df_train['repayment_consistency'] = df_train[['amount_repaid_14d', 'amount_repaid_1m', 'amount_repaid_3m', 'amount_repaid_6m', 'amount_repaid_1y']].std(axis=1)\n"
   ]
  },
  {
   "cell_type": "code",
   "execution_count": null,
   "metadata": {},
   "outputs": [],
   "source": [
    "df_train['repayment_acceleration'].describe()"
   ]
  },
  {
   "cell_type": "code",
   "execution_count": null,
   "metadata": {},
   "outputs": [],
   "source": [
    "df_train['repayment_acceleration'].hist(bins=50, figsize=(4, 3))"
   ]
  },
  {
   "cell_type": "code",
   "execution_count": null,
   "metadata": {},
   "outputs": [],
   "source": [
    "df_train['repayment_consistency'].describe()"
   ]
  },
  {
   "cell_type": "markdown",
   "metadata": {},
   "source": [
    "Inspect missing values"
   ]
  },
  {
   "cell_type": "code",
   "execution_count": null,
   "metadata": {},
   "outputs": [],
   "source": [
    "df_train.isna().sum()"
   ]
  },
  {
   "cell_type": "code",
   "execution_count": null,
   "metadata": {},
   "outputs": [],
   "source": [
    "df_train.existing_klarna_debt.describe()"
   ]
  },
  {
   "cell_type": "code",
   "execution_count": null,
   "metadata": {},
   "outputs": [],
   "source": [
    "df_train[df_train.existing_klarna_debt.isna()].head()"
   ]
  },
  {
   "cell_type": "code",
   "execution_count": null,
   "metadata": {},
   "outputs": [],
   "source": [
    "df_train.columns"
   ]
  },
  {
   "cell_type": "markdown",
   "metadata": {},
   "source": [
    "# Feature selection"
   ]
  },
  {
   "cell_type": "markdown",
   "metadata": {},
   "source": [
    "Feature selection - identify highly correlated features and drop to avoid multicollinearity. "
   ]
  },
  {
   "cell_type": "code",
   "execution_count": null,
   "metadata": {},
   "outputs": [],
   "source": [
    "# Compute the correlation matrix\n",
    "corr_matrix = df_train[numerical_features_eda].corr()\n",
    "\n",
    "# Select the upper triangle of the correlation matrix\n",
    "upper_triangle = corr_matrix.where(np.triu(np.ones(corr_matrix.shape), k=1).astype(bool))\n",
    "\n",
    "# Plot the upper triangle of the correlation matrix\n",
    "plt.figure(figsize=(12, 10))\n",
    "#sns.heatmap(upper_triangle, annot=True, cmap=\"coolwarm\", vmin=-1, vmax=1, mask=upper_triangle.isnull())\n",
    "sns.heatmap(\n",
    "    upper_triangle, \n",
    "    annot=True, \n",
    "    fmt=\".2f\",  # Format decimals to 2 places\n",
    "    cmap=\"coolwarm\", \n",
    "    vmin=-1, \n",
    "    vmax=1, \n",
    "    mask=upper_triangle.isnull(), \n",
    "    annot_kws={\"size\": 8},  # Annotation font size\n",
    "    cbar_kws={'label': 'Correlation Coefficient'}  # Label for the color bar\n",
    ")\n",
    "plt.title(\"Upper Triangle of Correlation Matrix\")\n",
    "plt.show()\n"
   ]
  },
  {
   "cell_type": "code",
   "execution_count": null,
   "metadata": {},
   "outputs": [],
   "source": [
    "\n",
    "# Set the correlation threshold\n",
    "threshold = 0.95\n",
    "\n",
    "# Find index of features with correlation greater than the threshold\n",
    "to_drop = [column for column in upper_triangle.columns if any(upper_triangle[column].abs() > threshold)]\n",
    "\n",
    "print(f'There are {len(to_drop)} columns to remove:')\n",
    "print(to_drop)"
   ]
  },
  {
   "cell_type": "markdown",
   "metadata": {},
   "source": [
    "Finalize list of features"
   ]
  },
  {
   "cell_type": "code",
   "execution_count": null,
   "metadata": {},
   "outputs": [],
   "source": [
    "# Remove from the list of features as needed\n",
    "numerical_features = [\n",
    "    feature for feature in numerical_features_eda \n",
    "    if feature not in to_drop \n",
    "    #and feature not in helper_columns\n",
    "]\n",
    "\n",
    "# Remove from the list of features as needed\n",
    "categorical_features = categorical_features_eda \n",
    "\n",
    "\n",
    "# Print numerical features as a vertical list\n",
    "print(\"\\nNumerical features to use in training:\\n\")\n",
    "print(\"\\n\".join(numerical_features))\n",
    "\n",
    "# Print categorical features as a vertical list\n",
    "print(\"\\nCategorical features to use in training:\\n\")\n",
    "print(\"\\n\".join(categorical_features))\n",
    "\n"
   ]
  },
  {
   "cell_type": "code",
   "execution_count": 1328,
   "metadata": {},
   "outputs": [],
   "source": [
    "\n",
    "# Assert that 'default' is not in numerical_features\n",
    "assert 'default' not in numerical_features, \"'default' is still in numerical_features!\"\n"
   ]
  },
  {
   "cell_type": "code",
   "execution_count": null,
   "metadata": {},
   "outputs": [],
   "source": [
    "# Get all columns in df_train\n",
    "all_columns = set(df_train.columns)\n",
    "\n",
    "# Combine numerical_features and categorical_features\n",
    "selected_features = set(numerical_features + categorical_features)\n",
    "\n",
    "# Find columns that are not in either list\n",
    "not_in_training = all_columns - selected_features\n",
    "\n",
    "# Print the result\n",
    "print(\"\\nColumns not included in training:\\n\")\n",
    "print(\"\\n\".join(sorted(not_in_training)))\n",
    "\n"
   ]
  },
  {
   "cell_type": "code",
   "execution_count": null,
   "metadata": {},
   "outputs": [],
   "source": [
    "df_train[df['repayment_1y_to_debt'], df['repayment_acceleration'],  df['loan_to_debt_ratio'], df['card_expiry_missing'], df['new_exposure_7d_to_debt'],  df['repayment_6m_to_debt'], df['repayment_14d_to_debt'], ]"
   ]
  },
  {
   "cell_type": "code",
   "execution_count": null,
   "metadata": {},
   "outputs": [],
   "source": [
    "df_train['repayment_1y_to_debt'].describe()"
   ]
  },
  {
   "cell_type": "code",
   "execution_count": null,
   "metadata": {},
   "outputs": [],
   "source": [
    "# List of features to plot\n",
    "features_to_plot = ['repayment_1y_to_debt', 'loan_to_debt_ratio', 'new_exposure_7d_to_debt', 'repayment_6m_to_debt', 'repayment_14d_to_debt']\n",
    "\n",
    "# Loop over each feature\n",
    "for feature in features_to_plot:\n",
    "    # Calculate percentiles \n",
    "    percentiles = np.percentile(df_train[feature].dropna(), [0, 25, 50, 75, 100])\n",
    "\n",
    "    # Binning the variable into 4 bins based on percentiles\n",
    "    binned_col = f\"{feature}_binned\"\n",
    "    df_train[binned_col] = pd.cut(\n",
    "        df_train[feature],\n",
    "        bins=percentiles,\n",
    "        #labels=['Low', 'Medium', 'High', 'Very High'],\n",
    "        include_lowest=True,\n",
    "        duplicates='drop'\n",
    "    )\n",
    "\n",
    "    # Check bin counts\n",
    "    print(f\"Value counts for {feature} bins:\")\n",
    "    print(df_train[binned_col].value_counts())\n",
    "\n",
    "    # Calculate default rate by bins\n",
    "    default_rate = df_train.groupby(binned_col)['default'].mean()\n",
    "\n",
    "    # Plot default rate by bins\n",
    "    plt.figure(figsize=(4, 3))\n",
    "    default_rate.plot(kind='bar', color='#FFA8CD')\n",
    "    plt.title(f'Default Rate by {feature.replace(\"_\", \" \").capitalize()} Bins')\n",
    "    plt.ylabel('Default Rate')\n",
    "    plt.xlabel(f'{feature.replace(\"_\", \" \").capitalize()} Bins')\n",
    "    plt.show()\n"
   ]
  },
  {
   "cell_type": "code",
   "execution_count": null,
   "metadata": {},
   "outputs": [],
   "source": []
  }
 ],
 "metadata": {
  "kernelspec": {
   "display_name": "credit_modelling",
   "language": "python",
   "name": "my_project_env"
  },
  "language_info": {
   "codemirror_mode": {
    "name": "ipython",
    "version": 3
   },
   "file_extension": ".py",
   "mimetype": "text/x-python",
   "name": "python",
   "nbconvert_exporter": "python",
   "pygments_lexer": "ipython3",
   "version": "3.9.6"
  }
 },
 "nbformat": 4,
 "nbformat_minor": 2
}
